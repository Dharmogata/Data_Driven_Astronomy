{
 "cells": [
  {
   "cell_type": "markdown",
   "metadata": {},
   "source": [
    "## Introduction\n",
    "In start this activity by looking at how decision trees tend to overfit the data if they are left unchecked. Over fitting the data means they try to account for the outlying data points at the cost of the prediction accuracy of the general trend.\n",
    "\n",
    "We will also look at k-fold cross validation. This is a more robust method of validation than the held-out method we used previously.\n",
    "\n",
    "In k-fold cross validation, we can test every example once. This is done by splitting the data set into k subsets and training/testing the model k times using different combinations of the subsets.\n",
    "\n",
    "Finally, we look at how accurate our model is on QSOs compared with other galaxies. As mentioned in the lectures, QSOs are galaxies that have an Active Galactic Nucleus (AGN). The AGN makes the galaxy brighter and as such they are detectable with the SDSS instruments out to much higher redshifts.\n",
    "\n",
    "We will use the same data set as the first activity and even some of functions we wrote in previous questions."
   ]
  },
  {
   "cell_type": "markdown",
   "metadata": {},
   "source": [
    "## Overfitting and tree depth\n",
    "Decision trees have many advantages: they are simple to implement, easy to interpret, the data doesn't require too much preparation, and they are reasonably efficient computationally.\n",
    "\n",
    "Decision trees do have some limitations though, one of the biggest being they tend to over fit the data. What this means is that if they are left unchecked they will create an overly complicated tree that attempts to account for outliers in the data. This comes at the expense of the accuracy of the general trend.\n",
    "\n",
    "Part of the reason for this over-fitting is that the algorithm works by trying to optimise the decision locally at each node. There are ways in which this can be mitigated and in the next problem we will see how constraining the number of decision node rows (the tree depth) impacts on the accuracy of our predictions."
   ]
  },
  {
   "cell_type": "markdown",
   "metadata": {},
   "source": [
    "## Setting a maximum depth\n",
    "In order to see how the tree is overfitting we would like to examine how our decision tree performs for different tree depths. Specifically, we would like to see how it performs on test data compared to the data that was used to train it.\n",
    "\n",
    "Naïvely we'd expect, the deeper the tree, the better it should perform. However, as the model overfits we see a difference in its accuracy on the training data and the more general testing data.\n",
    "\n",
    "We can control the depth of decision tree learned, using an argument to DecisionTreeRegressor. For example, to set the maximum depth to 5:\n",
    "\n",
    "\n",
    "dtr = DecisionTreeRegressor(max_depth=5)"
   ]
  },
  {
   "cell_type": "markdown",
   "metadata": {},
   "source": [
    "## Overfitting Trees\n",
    "Complete the function accuracy_by_treedepth. The function should return the median difference for both the testing and training data sets for each of the tree depths in depths.\n",
    "\n",
    "accuracy_by_treedepth should take the following arguments:\n",
    "\n",
    " - features and targets (as in previous problems);\n",
    "\n",
    " - depths: an array of tree depths to be used as the max_depth of the decision tree regressor.\n",
    "\n",
    "Your function should return two lists (or arrays) containing the median_diff values for the predictions made on the training and test sets using the maximum tree depths given by the depths.\n",
    "\n",
    "For example, if depths is [3, 5, 7], then your function should return two lists of length 3. You can choose the size of the split between your testing and training data (if in doubt, 50:50 is fine)."
   ]
  },
  {
   "cell_type": "code",
   "execution_count": 2,
   "metadata": {
    "collapsed": false
   },
   "outputs": [],
   "source": [
    "# helper function\n",
    "import numpy as np\n",
    "from matplotlib import pyplot as plt\n",
    "from sklearn.tree import DecisionTreeRegressor"
   ]
  },
  {
   "cell_type": "code",
   "execution_count": 3,
   "metadata": {
    "collapsed": true
   },
   "outputs": [],
   "source": [
    "#helper function\n",
    "def get_features_targets(data):\n",
    "  # complete this function\n",
    "  features = np.zeros((data.shape[0], 4))\n",
    "  features[:,0] = data['u']-data['g']\n",
    "  features[:,1] = data['g']-data['r']\n",
    "  features[:,2] = data['r']-data['i']\n",
    "  features[:,3] = data['i']-data['z']\n",
    "  targets = data['redshift']\n",
    "  return features, targets"
   ]
  },
  {
   "cell_type": "code",
   "execution_count": 4,
   "metadata": {
    "collapsed": true
   },
   "outputs": [],
   "source": [
    "#helper function\n",
    "def median_diff(predicted, actual):\n",
    "  diff =  predicted - actual\n",
    "  abs_diff = np.abs(diff)\n",
    "  return np.median(abs_diff)"
   ]
  },
  {
   "cell_type": "code",
   "execution_count": 5,
   "metadata": {
    "collapsed": true
   },
   "outputs": [],
   "source": [
    "# helper function\n",
    "def accuracy_by_treedepth(features, targets, depths):\n",
    "  # split the data into testing and training sets\n",
    "  \n",
    "  split_index = int(0.5 * len(features))\n",
    "  train_features = features[:split_index]\n",
    "  test_features = features[split_index:]\n",
    "  train_targets = targets[:split_index]\n",
    "  test_targets = targets[split_index:]\n",
    "  \n",
    "\n",
    "  # initialise arrays or lists to store the accuracies for the below loop\n",
    "  train_acc= []; test_acc = []\n",
    "  # loop through depths\n",
    "  for depth in depths:\n",
    "    # initialize model with the maximum depth. \n",
    "    dtr = DecisionTreeRegressor(max_depth=depth)\n",
    "\n",
    "    # train the model using the training set\n",
    "    dtr.fit(train_features,train_targets)\n",
    "    \n",
    "\n",
    "    # get the predictions for the training set and calculate their median_diff\n",
    "    predictions_train = dtr.predict(train_features)\n",
    "    train_med_diff=median_diff(train_targets, predictions_train)\n",
    "    #print(train_med_diffs)\n",
    "    # get the predictions for the testing set and calculate their median_diff\n",
    "    predictions_test = dtr.predict(test_features) \n",
    "    test_med_diff=median_diff(test_targets,predictions_test)\n",
    "    #print(test_med_diffs)\n",
    "  # return the accuracies for the training and thier median_diff\n",
    "    train_acc.append(train_med_diff),test_acc.append(test_med_diff)\n",
    "  return train_acc,test_acc"
   ]
  },
  {
   "cell_type": "code",
   "execution_count": 6,
   "metadata": {
    "collapsed": true
   },
   "outputs": [],
   "source": [
    "data = np.load('sdss_galaxy_colors.npy')\n",
    "features, targets = get_features_targets(data)"
   ]
  },
  {
   "cell_type": "code",
   "execution_count": 10,
   "metadata": {
    "collapsed": true
   },
   "outputs": [],
   "source": [
    "# Generate several depths to test\n",
    "tree_depths = [i for i in range(1, 36, 2)]"
   ]
  },
  {
   "cell_type": "code",
   "execution_count": 11,
   "metadata": {
    "collapsed": false
   },
   "outputs": [
    {
     "name": "stdout",
     "output_type": "stream",
     "text": [
      "Depth with lowest median difference : 21\n"
     ]
    }
   ],
   "source": [
    "# Call the function\n",
    "train_med_diffs, test_med_diffs = accuracy_by_treedepth(features, targets, tree_depths)\n",
    "print(\"Depth with lowest median difference : {}\".format(tree_depths[test_med_diffs.index(min(test_med_diffs))]))\n",
    "    "
   ]
  },
  {
   "cell_type": "code",
   "execution_count": 12,
   "metadata": {
    "collapsed": false
   },
   "outputs": [
    {
     "data": {
      "image/png": "[encoded data removed]",
      "text/plain": [
       "<matplotlib.figure.Figure at 0x7fca95235da0>"
      ]
     },
     "metadata": {},
     "output_type": "display_data"
    }
   ],
   "source": [
    "# Plot the results\n",
    "train_plot = plt.plot(tree_depths, train_med_diffs, label='Training set')\n",
    "test_plot = plt.plot(tree_depths, test_med_diffs, label='Validation set')\n",
    "plt.xlabel(\"Maximum Tree Depth\")\n",
    "plt.ylabel(\"Median of Differences\")\n",
    "plt.legend()\n",
    "plt.show()"
   ]
  },
  {
   "cell_type": "markdown",
   "metadata": {},
   "source": [
    "## Discussion of results\n",
    "We can see that the accuracy of the decision tree on the training set gets better as we allow the tree to grow to greater depths. In fact, at a depth of 27 our errors goes to zero!\n",
    "\n",
    "Conversly, the accuracy measure of the predictions for the test set gets better initially and then worse at larger tree depths. At a tree depth ~19 the decision tree starts to overfit the data. This means it tries to take into account outliers in the training set and loses its general predictive accuracy.\n",
    "\n",
    "Overfitting is a common problem with decision trees and can be circumvented by adjusting parameters like the tree depth or setting a minimum number of cases at each node. For now, we will set a maximum tree depth of 19 to prevent over-fitting in our redshift problem."
   ]
  },
  {
   "cell_type": "markdown",
   "metadata": {},
   "source": [
    "## Cross Validation\n",
    "The method we used to validate our model so far is known as hold-out validation. Hold out validation splits the data in two, one set to test with and the other to train with. Hold out validation is the most basic form of validation.\n",
    "\n",
    "While hold-out validation is better than no validation, the measured accuracy (i.e. our median of differences) will vary depending on how we split the data into testing and training subsets. The med_diff that we get from one randomly sampled training set will vary to that of a different random training set of the same size.\n",
    "\n",
    "In order to be more certain of our models accuracy we should use k -fold cross validation. k-fold validation works in a similar way to hold-out except that we split the data into k- subsets. We train and test the model  times, recording the accuracy each time. Each time we use a different combination of k-1 subsets to train the model and the final k-th subset to test. We take the average of the k- accuracy measurements to be the overall accuracy of the the model."
   ]
  },
  {
   "cell_type": "markdown",
   "metadata": {},
   "source": [
    "## Cross Validation cont.\n",
    "\n",
    "## KFold\n",
    "\n",
    "The KFold library is designed to split the data into training and testing subsets. It does this by offering an iterable object that can be initialised with\n",
    "\n",
    "\n",
    "kf = KFold(n_splits=k, shuffle=True)\n",
    "The n_splits=k specifies the number of subsets to use.\n",
    "\n",
    "By default shuffle is set to false. It is generally good practice to shuffle the data for cross validation as sometimes during collection and storage, data of a similar type can be stored adjacently which would lead to some learning bias when training the tree. For example, if the data was sorted by redshift, on the first iteration the model might be trained with redshifts 0 to 3 and tested on galaxies with redshifts ~4.\n",
    "\n",
    "In the next couple of problems we will use the sklearn library KFold to help us split our data into our k - 1 training subsets and remaining test subset. In the first problem we will use the convenience of KFolds to help us calculate the k-fold cross validated accuracy of our model. In the second we will extend this to provide a k-folded cross validated prediction for every galaxy in our data set."
   ]
  },
  {
   "cell_type": "markdown",
   "metadata": {},
   "source": [
    "## KFold Cross Validation\n",
    "\n",
    "Your task is to complete the function cross_validate_model. The function takes 4 arguments:\n",
    "\n",
    "  - model, feaures, and targets as in previous problems;\n",
    "  - k in our k-fold. This is the number of subsets to train and test.\n",
    "\n",
    "Your function should return a list containing the k median of differences for each of the k folds using median_diff.\n",
    "\n",
    "Note that we have set the max_depth=19 when we initialise the decision tree to prevent the model from overfitting.\n",
    "\n",
    "## KFolds usage\n",
    "\n",
    "We have created the KFold object to give you a set of training and testing indices for each of the k runs. It is worth taking a moment to understand this.\n",
    "\n",
    "Specifically, the object is initialised with\n",
    "\n",
    "\n",
    "kf = KFold(n_splits=k, shuffle=True)\n",
    "\n",
    "The n_splits=k passes our desired number of subsets/folds. We want to shuffle the data (as previously explained). The iterator is then used with:\n",
    "\n",
    "\n",
    "for train_indices, test_indices in kf.split(features):\n",
    "\n",
    "The kf.split(features) is an iterator that, for each of the k iterations, returns two arrays of indices to be used with our feature and target arrays, i.e. features[train_indices],targets[train_indices]"
   ]
  },
  {
   "cell_type": "code",
   "execution_count": 15,
   "metadata": {
    "collapsed": true
   },
   "outputs": [],
   "source": [
    "import numpy as np\n",
    "from sklearn.model_selection import KFold\n",
    "from sklearn.tree import DecisionTreeRegressor\n",
    "\n",
    "import numpy as np\n",
    "from matplotlib import pyplot as plt\n",
    "from sklearn.tree import DecisionTreeRegressor"
   ]
  },
  {
   "cell_type": "code",
   "execution_count": 16,
   "metadata": {
    "collapsed": true
   },
   "outputs": [],
   "source": [
    "# helper function\n",
    "# complete this function\n",
    "def cross_validate_model(model, features, targets, k):\n",
    "  kf = KFold(n_splits=k, shuffle=True)\n",
    "\n",
    "  # initialise a list to collect median_diffs for each iteration of the loop below\n",
    "  all_predictions = []\n",
    "\n",
    "  for train_indices, test_indices in kf.split(features):\n",
    "    train_features, test_features = features[train_indices], features[test_indices]\n",
    "    train_targets, test_targets = targets[train_indices], targets[test_indices]\n",
    "    \n",
    "    # fit the model for the current set\n",
    "    model.fit(train_features,train_targets)\n",
    "    # predict using the model\n",
    "    predictions = model.predict(test_features)\n",
    "   \n",
    "    \n",
    "  \n",
    "    # calculate the median_diff from predicted values and append to results arrays\n",
    "    \n",
    "    calculate_median_diff= median_diff(predictions, test_targets)\n",
    "    all_predictions.append(calculate_median_diff)\n",
    "\n",
    " \n",
    "  # return the list with your median difference values\n",
    "   \n",
    "  return all_predictions "
   ]
  },
  {
   "cell_type": "code",
   "execution_count": 17,
   "metadata": {
    "collapsed": true
   },
   "outputs": [],
   "source": [
    "data = np.load('./sdss_galaxy_colors.npy')\n",
    "features, targets = get_features_targets(data)"
   ]
  },
  {
   "cell_type": "code",
   "execution_count": 18,
   "metadata": {
    "collapsed": true
   },
   "outputs": [],
   "source": [
    "# initialize model with a maximum depth of 19\n",
    "dtr = DecisionTreeRegressor(max_depth=19)"
   ]
  },
  {
   "cell_type": "code",
   "execution_count": 19,
   "metadata": {
    "collapsed": true
   },
   "outputs": [],
   "source": [
    "# call your cross validation function\n",
    "diffs = cross_validate_model(dtr, features, targets, 10)"
   ]
  },
  {
   "cell_type": "code",
   "execution_count": 20,
   "metadata": {
    "collapsed": false
   },
   "outputs": [
    {
     "name": "stdout",
     "output_type": "stream",
     "text": [
      "Differences: 0.018, 0.017, 0.017, 0.017, 0.017, 0.018, 0.017, 0.017, 0.017, 0.017\n",
      "Mean difference: 0.017\n"
     ]
    }
   ],
   "source": [
    "\n",
    "# Print the values\n",
    "print('Differences: {}'.format(', '.join(['{:.3f}'.format(val) for val in diffs])))\n",
    "print('Mean difference: {:.3f}'.format(np.mean(diffs)))\n"
   ]
  },
  {
   "cell_type": "markdown",
   "metadata": {},
   "source": [
    "## Cross validation of predictions\n",
    "Cross validation is an important part of ensuring that our model is returning values that are at least partially accurate. The problem with held-out validation is that the we are only able to get prediction values for the data in our test set.\n",
    "\n",
    "With k-fold cross validation each galaxy is tested at least once and because of this we are able to get a prediction value for every galaxy. We'll do this in the next question..."
   ]
  },
  {
   "cell_type": "markdown",
   "metadata": {},
   "source": [
    "\n",
    "\n",
    "## KFold Cross Validated Predictions\n",
    "\n",
    "Complete the function cross_validate_predictions. This is very similar to the previous question except instead of returning the med_diff accuracy measurements we would like to return a predicted value for each of the galaxies.\n",
    "\n",
    "The function takes the same 4 arguments as the previous question, i.e. model, feaures, targets and k.\n",
    "\n",
    "Your function should return a single variable. The returned variable should be a 1-D numpy array of length , where  is the number of galaxies in our data set. You should make sure that you maintain the order of galaxies when giving your predictions, such that the first prediction in your array corresponds to the first galaxy in the features and targets arrays."
   ]
  },
  {
   "cell_type": "code",
   "execution_count": 23,
   "metadata": {
    "collapsed": true
   },
   "outputs": [],
   "source": [
    "#helper function\n",
    "# complete this function\n",
    "def cross_validate_predictions(model, features, targets, k):\n",
    "  kf = KFold(n_splits=k, shuffle=True)\n",
    "\n",
    "  # declare an array for predicted redshifts from each iteration\n",
    "  all_predictions = np.zeros_like(targets)\n",
    "\n",
    "  for train_indices, test_indices in kf.split(features):\n",
    "    # split the data into training and testing\n",
    "    train_features, test_features = features[train_indices], features[test_indices]\n",
    "    train_targets, test_targets = targets[train_indices], targets[test_indices]\n",
    "    # fit the model for the current set\n",
    "    model.fit(train_features,train_targets)\n",
    "    # predict using the model\n",
    "    predictions = model.predict(test_features)\n",
    "    # put the predicted values in the all_predictions array defined above\n",
    "    all_predictions[test_indices] = predictions\n",
    "\n",
    "  # return the predictions\n",
    "  return all_predictions    "
   ]
  },
  {
   "cell_type": "code",
   "execution_count": 24,
   "metadata": {
    "collapsed": true
   },
   "outputs": [],
   "source": [
    "data = np.load('./sdss_galaxy_colors.npy')\n",
    "features, targets = get_features_targets(data)\n",
    "\n",
    "# initialize model\n",
    "dtr = DecisionTreeRegressor(max_depth=19)"
   ]
  },
  {
   "cell_type": "code",
   "execution_count": 25,
   "metadata": {
    "collapsed": true
   },
   "outputs": [],
   "source": [
    "# call your cross validation function\n",
    "predictions = cross_validate_predictions(dtr, features, targets, 10)\n"
   ]
  },
  {
   "cell_type": "code",
   "execution_count": 26,
   "metadata": {
    "collapsed": false
   },
   "outputs": [
    {
     "name": "stdout",
     "output_type": "stream",
     "text": [
      "Median difference: 0.017\n"
     ]
    }
   ],
   "source": [
    "# calculate and print the rmsd as a sanity check\n",
    "diffs = median_diff(predictions, targets)\n",
    "print('Median difference: {:.3f}'.format(diffs))"
   ]
  },
  {
   "cell_type": "code",
   "execution_count": 27,
   "metadata": {
    "collapsed": false
   },
   "outputs": [
    {
     "data": {
      "image/png": "[encoded data removed]",
      "text/plain": [
       "<matplotlib.figure.Figure at 0x7fca95267e80>"
      ]
     },
     "metadata": {},
     "output_type": "display_data"
    }
   ],
   "source": [
    "# plot the results to see how well our model looks\n",
    "plt.scatter(targets, predictions, s=0.4)\n",
    "plt.xlim((0, targets.max()))\n",
    "plt.ylim((0, predictions.max()))\n",
    "plt.xlabel('Measured Redshift')\n",
    "plt.ylabel('Predicted Redshift')\n",
    "plt.show()"
   ]
  },
  {
   "cell_type": "markdown",
   "metadata": {},
   "source": [
    "## K-Fold discussion\n",
    "K-Fold cross validation is an important part of assessing the accuracy of any machine learning model. When we plotted our predicted vs measured redshifts we are able to see that for many our galaxies we were able to get a reasonably accurate prediction of redshift. However, there are also several outliers where our model does not give a good prediction."
   ]
  },
  {
   "cell_type": "markdown",
   "metadata": {},
   "source": [
    "<img src='predicted_v_measured.png'>"
   ]
  },
  {
   "cell_type": "markdown",
   "metadata": {},
   "source": [
    "We have learnt the inner workings of -Fold cross validation with the help of the KFold library. Now that you have a working understanding of -Fold you should be aware that there are several methods and libraries in the sklearn.model_selection modules that provide off the shelf versions of some of the routines that we have just written.\n",
    "\n",
    "The cross_val_predict function performs the same actions as the cross_validate_predictions function you wrote in the previous question. It can be called with\n",
    "\n",
    "\n",
    "predictions = cross_val_predict(dtr, features, targets, cv=k)\n",
    "\n",
    "Where dtr is our decision tree regressor object, cv=k allows us to specify the number of folds(k) to use and features /targets are as we have used them so far.\n",
    "\n",
    "There is one other tool in the sklearn.model_selection library that is worth noting, the cross_val_score function. This provides a score of how well the model performed similar to the med_diff we have been using so far. We will not go into the usage here, but you need to specify which metric is used to score the model."
   ]
  },
  {
   "cell_type": "markdown",
   "metadata": {},
   "source": [
    "## QSOs vs Galaxies\n",
    "You might be surprised to learn that our sample of galaxies consists of two different populations: regular galaxies and quasi-stellar objects (QSOs). QSOs are a type of galaxy that contain an actively (and intensly) accreting supermassive black hole. This is often referred to as an Active Galactic Nucleus (AGN)."
   ]
  },
  {
   "cell_type": "markdown",
   "metadata": {},
   "source": [
    "<img src='agn.png'>"
   ]
  },
  {
   "cell_type": "markdown",
   "metadata": {},
   "source": [
    "The light emitted from the AGN is significantly brighter than the rest of the galaxy and we are able to detect these QSOs out to much higher redshifts. In fact, most of the normal galaxies we have been using to create our models have redshifts less than z0.4, while the QSOs have redshifts all the way out to z6. Due to this contribution from the AGN, the flux magnitudes measured at different wavelengths might not follow the typical profile we assumed when predicting redshifts.\n",
    "\n",
    "In the next question we are going look at whether there is a difference in the accuracy of the decision trees between QSOs and regular galaxies."
   ]
  },
  {
   "cell_type": "markdown",
   "metadata": {},
   "source": [
    "\n",
    "## QSO and Galaxy\n",
    "\n",
    "Write a function split_galaxies_qsos that splits our data containing both galaxies and QSOs into two arrays that contain only galaxies and QSOs respectively. Your function should take a single data argument.\n",
    "\n",
    "The function should return two NumPy arrays, the first galaxies containing only rows from data that are galaxies and the second qsos containing only rows that are QSOs.\n",
    "\n",
    "The data array contains a column data['spec_class'] where the values will either be b'GALAXY' or b'QSO'."
   ]
  },
  {
   "cell_type": "code",
   "execution_count": 28,
   "metadata": {
    "collapsed": true
   },
   "outputs": [],
   "source": [
    "#helper function\n",
    "# complete this function\n",
    "def split_galaxies_qsos(data):\n",
    "  # split the data into galaxies and qsos arrays\n",
    "  data = np.load('sdss_galaxy_colors.npy')\n",
    "  galaxies = data[data['spec_class'] == b'GALAXY']\n",
    "  qso = data[data['spec_class']== b'QSO']\n",
    "  # return the seperated galaxies and qsos arrays\n",
    "  return galaxies,qso"
   ]
  },
  {
   "cell_type": "code",
   "execution_count": 29,
   "metadata": {
    "collapsed": true
   },
   "outputs": [],
   "source": [
    "#helper function\n",
    "def cross_validate_median_diff(data):\n",
    "  features, targets = get_features_targets(data)\n",
    "  dtr = DecisionTreeRegressor(max_depth=19)\n",
    "  return np.mean(cross_validate_model(dtr, features, targets, 10))"
   ]
  },
  {
   "cell_type": "code",
   "execution_count": 30,
   "metadata": {
    "collapsed": true
   },
   "outputs": [],
   "source": [
    "data = np.load('./sdss_galaxy_colors.npy')\n",
    "\n",
    "# Split the data set into galaxies and QSOs\n",
    "galaxies, qsos= split_galaxies_qsos(data)"
   ]
  },
  {
   "cell_type": "code",
   "execution_count": 31,
   "metadata": {
    "collapsed": true
   },
   "outputs": [],
   "source": [
    "# Here we cross validate the model and get the cross-validated median difference\n",
    "# The cross_validated_med_diff function is in \"written_functions\"\n",
    "galaxy_med_diff = cross_validate_median_diff(galaxies)\n",
    "qso_med_diff = cross_validate_median_diff(qsos)\n"
   ]
  },
  {
   "cell_type": "code",
   "execution_count": 32,
   "metadata": {
    "collapsed": false
   },
   "outputs": [
    {
     "name": "stdout",
     "output_type": "stream",
     "text": [
      "Median difference for Galaxies: 0.016\n",
      "Median difference for QSOs: 0.075\n"
     ]
    }
   ],
   "source": [
    "# Print the results\n",
    "print(\"Median difference for Galaxies: {:.3f}\".format(galaxy_med_diff))\n",
    "print(\"Median difference for QSOs: {:.3f}\".format(qso_med_diff))"
   ]
  },
  {
   "cell_type": "markdown",
   "metadata": {},
   "source": [
    "## QSO Discussion\n",
    "So our QSOs have a greater median residual (~0.074) than the galaxies (~0.016). There are a couple of possibilities why this is the case.\n",
    "\n",
    "There are far fewer QSOs (8525) than galaxies (41,475).\n",
    "Galaxies aren't as bright as QSOs so they become too faint to be detected with SDSS at redshifts  ~0.4. This creates a measurement bias.\n",
    "When I take a random sample of galaxies the same size as the QSO data set I get a med_diff of ~0.018 which is slightly higher than the full set, but not enough to account for the gap between the two populations.\n",
    "\n",
    "The figure below shows the normalised distribution function of the two populations."
   ]
  },
  {
   "cell_type": "markdown",
   "metadata": {},
   "source": [
    "<img src='redshift_distribution.png'>"
   ]
  },
  {
   "cell_type": "markdown",
   "metadata": {},
   "source": [
    "We can see that the majority of galaxies form a peak around 0.10 while the QSOs are resonably evenly distributed out to redshift ~2.5 . This can lead to a measurement bias. In the case of the galaxies we have trained our decision tree with target redshifts approximately less than 0.4. As such the predictions from this model will not be larger than the maximum target value. So the maximum difference (or residual) for each galaxy in this set will be a lot smaller than the maximum residual for the QSOs.\n",
    "\n",
    "We can often get a clearer view of this by looking at the predicted redshifts vs actual redshifts in a plot."
   ]
  },
  {
   "cell_type": "markdown",
   "metadata": {},
   "source": [
    "<img src='predicted_actual_qso.png'>"
   ]
  },
  {
   "cell_type": "markdown",
   "metadata": {},
   "source": [
    "## Summary\n",
    "We have looked at how decision trees are prone to overfitting the model and how limiting the maximum depth of the tree can be used to prevent this. By comparing the accuracy of the model on the training set with that of the test set for different tree depths we found that a maximum tree depth of 19 was suitable for our model.\n",
    "\n",
    "We looked at k-fold cross validation and the various methods that can be used to implement it. k-fold cross validation mitigates the risk that the training set has a unique or specific population of the data set; For example if all the training data contained QSOs and the testing set regular galaxies. k-folds cross validation also allows you to get a prediction for all the points in your data set.\n",
    "\n",
    "We concluded by looking at the sub-population of QSOs and how their accuracy measurement was significantly worse than that of the other galaxies. On closer inspection we found that this was a measurement bias resulting from the difference in the range of redshifts in each population.\n",
    "\n",
    "You have hopefully learnt all the tools necessary to implement a decision tree on a regression problem of your own. In the next module we will look at how decision trees can be used for classification. We will be using them to classify galaxies as either an elliptical, a spiral or a merger."
   ]
  },
  {
   "cell_type": "code",
   "execution_count": null,
   "metadata": {
    "collapsed": true
   },
   "outputs": [],
   "source": []
  }
 ],
 "metadata": {
  "kernelspec": {
   "display_name": "Python [conda root]",
   "language": "python",
   "name": "conda-root-py"
  },
  "language_info": {
   "codemirror_mode": {
    "name": "ipython",
    "version": 3
   },
   "file_extension": ".py",
   "mimetype": "text/x-python",
   "name": "python",
   "nbconvert_exporter": "python",
   "pygments_lexer": "ipython3",
   "version": "3.5.2"
  }
 },
 "nbformat": 4,
 "nbformat_minor": 1
}
