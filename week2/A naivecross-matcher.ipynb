{
 "cells": [
  {
   "cell_type": "markdown",
   "metadata": {},
   "source": [
    "# Introduction\n",
    "\n",
    "When investigating astronomical objects, like active galactic nuclei (AGN), astronomers compare data about those objects from different telescopes at different wavelengths.\n",
    "\n",
    "This requires positional cross-matching to find the closest counterpart within a given radius on the sky.\n",
    "\n",
    "In this activity you'll cross-match two catalogues: one from a radio survey, the AT20G Bright Source Sample (BSS) catalogue and one from an optical survey, the SuperCOSMOS all-sky galaxy catalogue.\n",
    "\n",
    "The BSS catalogue lists the brightest sources from the AT20G radio survey while the SuperCOSMOS catalogue lists galaxies observed by visible light surveys. If we can find an optical match for our radio source, we are one step closer to working out what kind of object it is, e.g. a galaxy in the local Universe or a distant quasar.\n",
    "\n",
    "We've chosen one small catalogue (BSS has only 320 objects) and one large one (SuperCOSMOS has about 240 million) to demonstrate the issues you can encounter when implementing cross-matching algorithms."
   ]
  },
  {
   "cell_type": "markdown",
   "metadata": {},
   "source": [
    "## Equatorial coordinates\n",
    "\n",
    "The positions of stars, galaxies and other astronomical objects are usually recorded in either equatorial or Galactic coordinates.\n",
    "\n",
    "Equatorial coordinates are fixed relative to the celestial sphere, so the positions are independent of when or where the observations took place. They are defined relative to the celestial equator (which is in the same plane as the Earth's equator) and the ecliptic (the path the sun traces throughout the year).\n",
    "\n",
    "A point on the celestial sphere is given by two coordinates:\n",
    "\n",
    "Right ascension: the angle from the vernal equinox to the point, going east along the celestial equator;\n",
    "Declination: the angle from the celestial equator to the point, going north (negative values indicate going south).\n",
    "The vernal equinox is the intersection of the celestial equator and the ecliptic where the ecliptic rises above the celestial equator going further east."
   ]
  },
  {
   "cell_type": "markdown",
   "metadata": {},
   "source": [
    "## Coordinates: Right Ascension\n",
    "\n",
    "Right ascension is often given in hours-minutes-seconds (HMS) notation, because it was convenient to calculate when a star would appear over the horizon. A full circle in HMS notation is 24 hours, which means 1 hour in HMS notation is equal to 15 degrees.\n",
    "\n",
    "Each hour is split into 60 minutes and each minute into 60 seconds.\n",
    "\n",
    "You can convert 23 hours, 12 minutes and 6 seconds (written as 23:12:06 or 23h12m06s) to degrees like this:"
   ]
  },
  {
   "cell_type": "code",
   "execution_count": 1,
   "metadata": {
    "collapsed": false
   },
   "outputs": [
    {
     "name": "stdout",
     "output_type": "stream",
     "text": [
      "348.025\n"
     ]
    }
   ],
   "source": [
    "print(15*(23 + 12/60 + 6/(60*60)))"
   ]
  },
  {
   "cell_type": "markdown",
   "metadata": {},
   "source": [
    "## Coordinates: Declination\n",
    "\n",
    "Declination, on the other hand, is traditionally recorded in degrees-minutes-seconds (DMS) notation. A full circle is 360 degrees, each degree has 60 arcminutes and each arcminute has 60 arcseconds.\n",
    "\n",
    "For example: 73 degrees, 21 arcminutes and 14.4 arcseconds (written 73:21:14.4 or 73° 21' 14.4\" or 73d21m14.4s) can be converted to decimal degrees like this:"
   ]
  },
  {
   "cell_type": "code",
   "execution_count": 2,
   "metadata": {
    "collapsed": false
   },
   "outputs": [
    {
     "name": "stdout",
     "output_type": "stream",
     "text": [
      "73.354\n"
     ]
    }
   ],
   "source": [
    "print(73 + 21/60 + 14.4/(60*60))"
   ]
  },
  {
   "cell_type": "markdown",
   "metadata": {},
   "source": [
    "With negative angles like -5° 31' 12\" the negation applies to the whole angle, including arcminutes and arcseconds:"
   ]
  },
  {
   "cell_type": "code",
   "execution_count": 3,
   "metadata": {
    "collapsed": false
   },
   "outputs": [
    {
     "name": "stdout",
     "output_type": "stream",
     "text": [
      "-5.52\n"
     ]
    }
   ],
   "source": [
    "print(-1*(5 + 31/60 + 12/(60*60)))"
   ]
  },
  {
   "cell_type": "markdown",
   "metadata": {},
   "source": [
    "## Convert to decimal degrees"
   ]
  },
  {
   "cell_type": "markdown",
   "metadata": {},
   "source": [
    "Write two functions, one that converts right ascension from HMS to decimal degrees, called hms2dec, and another that converts declination from DMS to decimal degrees, called dms2dec.\n",
    "\n",
    "Right ascension is always an angle from 0 to 24 hours and declination is always an angle from -90° to +90°."
   ]
  },
  {
   "cell_type": "code",
   "execution_count": 4,
   "metadata": {
    "collapsed": true
   },
   "outputs": [],
   "source": [
    "def hms2dec(h,m,s):\n",
    "  return 15*(h+m/60 + s/(60*60))\n",
    "\n",
    "def dms2dec(d,m,s):\n",
    "  if d > 0:\n",
    "     return d + m/60 + s/(60*60)\n",
    "  else:\n",
    "     return -1*(abs(d) + m/60 + s/(60*60))\n"
   ]
  },
  {
   "cell_type": "code",
   "execution_count": 6,
   "metadata": {
    "collapsed": false
   },
   "outputs": [
    {
     "name": "stdout",
     "output_type": "stream",
     "text": [
      "348.025\n"
     ]
    }
   ],
   "source": [
    "# The first example from the question\n",
    "print(hms2dec(23, 12, 6))"
   ]
  },
  {
   "cell_type": "code",
   "execution_count": 8,
   "metadata": {
    "collapsed": false
   },
   "outputs": [
    {
     "name": "stdout",
     "output_type": "stream",
     "text": [
      "22.955\n"
     ]
    }
   ],
   "source": [
    "# The second example from the question\n",
    "print(dms2dec(22, 57, 18))"
   ]
  },
  {
   "cell_type": "code",
   "execution_count": 9,
   "metadata": {
    "collapsed": false
   },
   "outputs": [
    {
     "name": "stdout",
     "output_type": "stream",
     "text": [
      "-66.08475\n"
     ]
    }
   ],
   "source": [
    "print(dms2dec(-66, 5, 5.1))"
   ]
  },
  {
   "cell_type": "markdown",
   "metadata": {},
   "source": [
    "## Angular distance\n",
    "\n",
    "To crossmatch two catalogues we need to compare the angular distance between objects on the celestial sphere.\n",
    "\n",
    "People loosely call this a \"distance\", but technically its an angular distance: the projected angle between objects as seen from Earth.\n",
    "\n",
    "If we have an object on the celestial sphere with right ascension and declination , then the angular distance to another object with coordinates  is:\n",
    "\n",
    "Angular distances have the same units as angles (degrees). There are other equations for calculating the angular distance but this one, called the haversine formula, is good at avoiding floating point errors when the two points are close together."
   ]
  },
  {
   "cell_type": "markdown",
   "metadata": {},
   "source": [
    "## Calculating angular distance\n",
    "We'll go through an example of how to implement the formula you saw on the previous slide using NumPy's trigonometric functions.\n",
    "\n",
    "We can calculate b with NumPy's sin, cos and abs functions:"
   ]
  },
  {
   "cell_type": "code",
   "execution_count": 11,
   "metadata": {
    "collapsed": false
   },
   "outputs": [
    {
     "ename": "NameError",
     "evalue": "name 'd1' is not defined",
     "output_type": "error",
     "traceback": [
      "\u001b[0;31m---------------------------------------------------------------------------\u001b[0m",
      "\u001b[0;31mNameError\u001b[0m                                 Traceback (most recent call last)",
      "\u001b[0;32m<ipython-input-11-ce899886fd31>\u001b[0m in \u001b[0;36m<module>\u001b[0;34m()\u001b[0m\n\u001b[1;32m      1\u001b[0m \u001b[0;32mimport\u001b[0m \u001b[0mnumpy\u001b[0m \u001b[0;32mas\u001b[0m \u001b[0mnp\u001b[0m\u001b[0;34m\u001b[0m\u001b[0m\n\u001b[1;32m      2\u001b[0m \u001b[0;34m\u001b[0m\u001b[0m\n\u001b[0;32m----> 3\u001b[0;31m \u001b[0mb\u001b[0m \u001b[0;34m=\u001b[0m \u001b[0mnp\u001b[0m\u001b[0;34m.\u001b[0m\u001b[0mcos\u001b[0m\u001b[0;34m(\u001b[0m\u001b[0md1\u001b[0m\u001b[0;34m)\u001b[0m\u001b[0;34m*\u001b[0m\u001b[0mnp\u001b[0m\u001b[0;34m.\u001b[0m\u001b[0mcos\u001b[0m\u001b[0;34m(\u001b[0m\u001b[0md2\u001b[0m\u001b[0;34m)\u001b[0m\u001b[0;34m*\u001b[0m\u001b[0mnp\u001b[0m\u001b[0;34m.\u001b[0m\u001b[0msin\u001b[0m\u001b[0;34m(\u001b[0m\u001b[0mnp\u001b[0m\u001b[0;34m.\u001b[0m\u001b[0mabs\u001b[0m\u001b[0;34m(\u001b[0m\u001b[0mr1\u001b[0m \u001b[0;34m-\u001b[0m \u001b[0mr2\u001b[0m\u001b[0;34m)\u001b[0m\u001b[0;34m/\u001b[0m\u001b[0;36m2\u001b[0m\u001b[0;34m)\u001b[0m\u001b[0;34m**\u001b[0m\u001b[0;36m2\u001b[0m\u001b[0;34m\u001b[0m\u001b[0m\n\u001b[0m",
      "\u001b[0;31mNameError\u001b[0m: name 'd1' is not defined"
     ]
    }
   ],
   "source": [
    "import numpy as np\n",
    "\n",
    "b = np.cos(d1)*np.cos(d2)*np.sin(np.abs(r1 - r2)/2)**2"
   ]
  },
  {
   "cell_type": "markdown",
   "metadata": {},
   "source": [
    "Here, r1 and d1 are the coordinates of the first point  and r2 and d2 similarly correspond to  and .\n",
    "\n",
    " can be calculated in a similar way using just sin and abs. Once we have both  and  we can use numpy.arcsin to calculate :"
   ]
  },
  {
   "cell_type": "code",
   "execution_count": 12,
   "metadata": {
    "collapsed": false
   },
   "outputs": [
    {
     "ename": "NameError",
     "evalue": "name 'a' is not defined",
     "output_type": "error",
     "traceback": [
      "\u001b[0;31m---------------------------------------------------------------------------\u001b[0m",
      "\u001b[0;31mNameError\u001b[0m                                 Traceback (most recent call last)",
      "\u001b[0;32m<ipython-input-12-98ff97cc7010>\u001b[0m in \u001b[0;36m<module>\u001b[0;34m()\u001b[0m\n\u001b[0;32m----> 1\u001b[0;31m \u001b[0md\u001b[0m \u001b[0;34m=\u001b[0m \u001b[0;36m2\u001b[0m\u001b[0;34m*\u001b[0m\u001b[0mnp\u001b[0m\u001b[0;34m.\u001b[0m\u001b[0marcsin\u001b[0m\u001b[0;34m(\u001b[0m\u001b[0mnp\u001b[0m\u001b[0;34m.\u001b[0m\u001b[0msqrt\u001b[0m\u001b[0;34m(\u001b[0m\u001b[0ma\u001b[0m \u001b[0;34m+\u001b[0m \u001b[0mb\u001b[0m\u001b[0;34m)\u001b[0m\u001b[0;34m)\u001b[0m\u001b[0;34m\u001b[0m\u001b[0m\n\u001b[0m",
      "\u001b[0;31mNameError\u001b[0m: name 'a' is not defined"
     ]
    }
   ],
   "source": [
    "d = 2*np.arcsin(np.sqrt(a + b))"
   ]
  },
  {
   "cell_type": "markdown",
   "metadata": {},
   "source": [
    "## Heavenly angles\n",
    "\n",
    "Write a function called angular_dist that calculates the angular distance between any two points on the celestial sphere given their right ascension and declination.\n",
    "\n",
    "Your function should take arguments in decimal degrees and return the distance in decimal degrees too."
   ]
  },
  {
   "cell_type": "code",
   "execution_count": 14,
   "metadata": {
    "collapsed": true
   },
   "outputs": [],
   "source": [
    "import numpy as np\n",
    "\n",
    "def angular_dist(r1_deg,d1_deg,r2_deg,d2_deg):\n",
    "  r1 = np.radians(r1_deg)\n",
    "  r2 = np.radians(r2_deg)\n",
    "  d1 = np.radians(d1_deg)\n",
    "  d2 = np.radians(d2_deg)\n",
    "  \n",
    "  delta_1 = d1 - d2\n",
    "  if delta_1<0:\n",
    "    delta_1 = - delta_1\n",
    "  delta_1 = (delta_1)/2\n",
    "  a = (np.sin(delta_1))*(np.sin(delta_1))\n",
    "  b = np.cos(d1)*np.cos(d2)*np.sin(np.abs(r1 - r2)/2)**2\n",
    "  d = 2*np.arcsin(np.sqrt(a + b)) \n",
    "  return np.degrees(d)\n"
   ]
  },
  {
   "cell_type": "code",
   "execution_count": 15,
   "metadata": {
    "collapsed": false
   },
   "outputs": [
    {
     "name": "stdout",
     "output_type": "stream",
     "text": [
      "8.10039231815\n"
     ]
    }
   ],
   "source": [
    "# Run your function with the first example in the question.\n",
    "print(angular_dist(21.07, 0.1, 21.15, 8.2))"
   ]
  },
  {
   "cell_type": "code",
   "execution_count": 17,
   "metadata": {
    "collapsed": false
   },
   "outputs": [
    {
     "name": "stdout",
     "output_type": "stream",
     "text": [
      "29.2084981805\n"
     ]
    }
   ],
   "source": [
    "# Run your function with the second example in the question\n",
    "print(angular_dist(10.3, -3, 24.3, -29))"
   ]
  },
  {
   "cell_type": "markdown",
   "metadata": {},
   "source": [
    "## Loading catalogues\n",
    "\n",
    "Before we can crossmatch our two catalogues we first have to import the raw data. Every astronomy catalogue tends to have its own unique format so we'll need to look at how to do this with each one individually.\n",
    "\n",
    "We'll look at the AT20G bright source sample survey first. The raw data we'll be using is the file table2.dat from this page in the VizieR archives, but we'll use the filename bss.dat from now on.\n",
    "\n",
    "Every catalogue in VizieR has a detailed README file that gives you the exact format of each table in the catalogue."
   ]
  },
  {
   "cell_type": "markdown",
   "metadata": {},
   "source": [
    "## AT20G BSS catalogue\n",
    "\n",
    "The full catalogue of bright radio sources contains 320 objects\n",
    "\n",
    "The catalogue is organised in fixed-width columns, with the format of the columns being:\n",
    "\n",
    "1: Object catalogue ID number (sometimes with an asterisk)\n",
    "2-4: Right ascension in HMS notation\n",
    "5-7: Declination in DMS notation\n",
    "8-: Other information, including spectral intensities\n",
    "We only need coordinates for crossmatching. We can load specific columns with the usecols argument in NumPy's loadtxt function:"
   ]
  },
  {
   "cell_type": "code",
   "execution_count": 18,
   "metadata": {
    "collapsed": false
   },
   "outputs": [
    {
     "name": "stdout",
     "output_type": "stream",
     "text": [
      "[  0.     4.    35.65 -47.    36.    19.1 ]\n"
     ]
    }
   ],
   "source": [
    "import numpy as np\n",
    "cat = np.loadtxt('bss.dat', usecols=range(1, 7))\n",
    "print(cat[0])"
   ]
  },
  {
   "cell_type": "markdown",
   "metadata": {},
   "source": [
    "## SuperCOSMOS all-sky catalogue\n",
    "The SuperCOSMOS all-sky catalogue is a catalogue of galaxies generated from several visible light surveys.\n",
    "\n",
    "The original data is available on this page in a package called SCOS_XSC_mCl1_B21.5_R20_noStepWedges.csv.gz. Because this catalogue is so large, we've cut it down for these activities. The cut down version of the file will be named super.csv.\n",
    "\n",
    "The catalogue uses a comma-separated value (CSV) format. Aside from the first row, which contains column labels, the format is:\n",
    "\n",
    "1: Right ascension in decimal degrees\n",
    "\n",
    "2: Declination in decimal degrees\n",
    "\n",
    "3: Other data, including magnitude and apparent shape\n",
    "\n",
    "So now when loading this file in, we have to tell np.loadtxt to skip the first row and treat the commas as delimiters:"
   ]
  },
  {
   "cell_type": "code",
   "execution_count": 19,
   "metadata": {
    "collapsed": false
   },
   "outputs": [
    {
     "name": "stdout",
     "output_type": "stream",
     "text": [
      "[[  1.0583407 -52.9162402]\n",
      " [  2.6084425 -41.5005753]\n",
      " [  2.7302499 -27.706955 ]]\n"
     ]
    }
   ],
   "source": [
    "import numpy as np\n",
    "cat = np.loadtxt('super.csv', delimiter=',', skiprows=1, usecols=[0, 1])\n",
    "print(cat)"
   ]
  },
  {
   "cell_type": "markdown",
   "metadata": {},
   "source": [
    "## Playing with space cats\n",
    "\n",
    "write import_bss and import_super functions that import the AT20G BSS and SuperCOSMOS catalogues from the files bss.dat and super.csv as described in the previous slides.\n",
    "\n",
    "Each function should return a list of tuples containing the object's ID (an integer) and the coordinates in degrees. The object ID should be the row of the object in the catalogue, starting at 1.\n",
    "\n"
   ]
  },
  {
   "cell_type": "code",
   "execution_count": 22,
   "metadata": {
    "collapsed": true
   },
   "outputs": [],
   "source": [
    "import numpy as np\n",
    "\n",
    "def hms2dec(h,m,s):\n",
    "  return 15*(h+(m/60)+(s/3600))\n",
    "\n",
    "def dms2dec(d,m,s):\n",
    "  if d>0:\n",
    "    return (d+(m/60)+(s/3600))\n",
    "  else:\n",
    "    return -((-d)+(m/60)+(s/3600))\n",
    "\n",
    "def import_bss():\n",
    "  cat = np.loadtxt('bss.dat',usecols=range(1,7))\n",
    "  results= []\n",
    "  i = 1\n",
    "  for item in cat:\n",
    "    h1 = hms2dec(item[0],item[1],item[2])\n",
    "    r1 = dms2dec(item[3],item[4],item[5])\n",
    "    results.append((i,h1,r1))\n",
    "    i = i+1\n",
    "  return results\n",
    "\n",
    "def import_super():\n",
    "  cat = np.loadtxt('super.csv',delimiter = ',',skiprows = 1, usecols = [0,1])\n",
    "  results = []\n",
    "  i = 1\n",
    "  for item in cat:\n",
    "    results.append((i,item[0],item[1]))\n",
    "    i = i+1\n",
    "  return results\n"
   ]
  },
  {
   "cell_type": "code",
   "execution_count": 24,
   "metadata": {
    "collapsed": false
   },
   "outputs": [
    {
     "data": {
      "text/plain": [
       "[(1, 1.0583407, -52.916240199999997),\n",
       " (2, 2.6084425000000002, -41.500575300000001),\n",
       " (3, 2.7302499, -27.706955000000001)]"
      ]
     },
     "execution_count": 24,
     "metadata": {},
     "output_type": "execute_result"
    }
   ],
   "source": [
    "bss_cat = import_bss()\n",
    "super_cat = import_super()\n",
    "\n",
    "bss_cat\n",
    "super_cat"
   ]
  },
  {
   "cell_type": "markdown",
   "metadata": {},
   "source": [
    "## Look around you\n",
    "Write a find_closest function that takes a catalogue and the position of a target source (a right ascension and declination) and finds the closest match for the target source in the catalogue.\n",
    "\n",
    "Your function should return the ID of the closest object and the distance to that object.\n",
    "\n",
    "The right ascension and declination are in degrees. The catalogue list has been loaded by import_bss from the previous question. The full 320 object BSS catalogue is contained in bss.dat for you to test your code on."
   ]
  },
  {
   "cell_type": "code",
   "execution_count": 28,
   "metadata": {
    "collapsed": true
   },
   "outputs": [],
   "source": [
    "import numpy as np\n",
    "def angular_dist(r1_deg,d1_deg,r2_deg,d2_deg):\n",
    "  r1 = np.radians(r1_deg)\n",
    "  r2 = np.radians(r2_deg)\n",
    "  d1 = np.radians(d1_deg)\n",
    "  d2 = np.radians(d2_deg)\n",
    "  \n",
    "  delta_1 = d1 - d2\n",
    "  if delta_1<0:\n",
    "    delta_1 = - delta_1\n",
    "  delta_1 = (delta_1)/2\n",
    "  a = (np.sin(delta_1))*(np.sin(delta_1))\n",
    "  b = np.cos(d1)*np.cos(d2)*np.sin(np.abs(r1 - r2)/2)**2\n",
    "  d = 2*np.arcsin(np.sqrt(a + b)) \n",
    "  return np.degrees(d)\n",
    "\n",
    "def hms2dec(h,m,s):\n",
    "  return 15*(h+(m/60)+(s/3600))\n",
    "\n",
    "def dms2dec(d,m,s):\n",
    "  if d>0:\n",
    "    return (d+(m/60)+(s/3600))\n",
    "  else:\n",
    "    return -((-d)+(m/60)+(s/3600))\n",
    "\n",
    "def import_bss():\n",
    "  cat = np.loadtxt('bss.dat',usecols=range(1,7))\n",
    "  results = []\n",
    "  i = 1\n",
    "  for item in cat:\n",
    "    h1 = hms2dec(item[0],item[1],item[2])\n",
    "    r1 = dms2dec(item[3],item[4],item[5])\n",
    "    results.append((i,h1,r1))\n",
    "    i = i+1\n",
    "  return results\n",
    "\n",
    "def find_closest(cat,r,d):\n",
    "  item_select = cat[1]\n",
    "  lowest_dist = angular_dist(r,d,item_select[1],item_select[2])\n",
    "  \n",
    "  for item in cat:\n",
    "    item_dist = angular_dist(r,d,item[1],item[2])\n",
    "    if item_dist<lowest_dist:\n",
    "      lowest_dist = item_dist\n",
    "      item_select = item\n",
    "  return (item_select[0],lowest_dist)\n"
   ]
  },
  {
   "cell_type": "code",
   "execution_count": 29,
   "metadata": {
    "collapsed": false
   },
   "outputs": [
    {
     "name": "stdout",
     "output_type": "stream",
     "text": [
      "(1, 99.722586584426395)\n",
      "(3, 72.282148208126713)\n"
     ]
    }
   ],
   "source": [
    "cat = import_bss()\n",
    "  \n",
    "  # First example from the question\n",
    "print(find_closest(cat, 175.3, -32.5))\n",
    "\n",
    "  # Second example in the question\n",
    "print(find_closest(cat, 32.2, 40.7))\n"
   ]
  },
  {
   "cell_type": "markdown",
   "metadata": {},
   "source": [
    "## Matchup\n",
    "Write a crossmatch function that crossmatches two catalogues within a maximum distance. It should return a list of matches and non-matches for the first catalogue against the second.\n",
    "\n",
    "The list of matches contains tuples of the first and second catalogue object IDs and their distance. The list of non-matches contains the unmatched object IDs from the first catalogue only. Both lists should be ordered by the first catalogue's IDs.\n",
    "\n",
    "The BSS and SuperCOSMOS catalogues will be given as input arguments, each in the format you’ve seen previously. The maximum distance is given in decimal degrees."
   ]
  },
  {
   "cell_type": "code",
   "execution_count": 30,
   "metadata": {
    "collapsed": true
   },
   "outputs": [],
   "source": [
    "import numpy as np\n",
    "\n",
    "def import_super():\n",
    "  cat = np.loadtxt('super.csv',delimiter = ',',skiprows = 1, usecols = [0,1])\n",
    "  list_ele = []\n",
    "  i = 1\n",
    "  for item in cat:\n",
    "    list_ele.append((i,item[0],item[1]))\n",
    "    i = i+1\n",
    "  return list_ele\n",
    "\n",
    "def angular_dist(r1_deg,d1_deg,r2_deg,d2_deg):\n",
    "  r1 = np.radians(r1_deg)\n",
    "  r2 = np.radians(r2_deg)\n",
    "  d1 = np.radians(d1_deg)\n",
    "  d2 = np.radians(d2_deg)\n",
    "  \n",
    "  delta_1 = d1 - d2\n",
    "  if delta_1<0:\n",
    "    delta_1 = - delta_1\n",
    "  delta_1 = (delta_1)/2\n",
    "  a = (np.sin(delta_1))*(np.sin(delta_1))\n",
    "  b = np.cos(d1)*np.cos(d2)*np.sin(np.abs(r1 - r2)/2)**2\n",
    "  d = 2*np.arcsin(np.sqrt(a + b)) \n",
    "  return np.degrees(d)\n",
    "\n",
    "def hms2dec(h,m,s):\n",
    "  return 15*(h+(m/60)+(s/3600))\n",
    "\n",
    "def dms2dec(d,m,s):\n",
    "  if d>0:\n",
    "    return (d+(m/60)+(s/3600))\n",
    "  else:\n",
    "    return -((-d)+(m/60)+(s/3600))\n",
    "\n",
    "def import_bss():\n",
    "  cat = np.loadtxt('bss.dat',usecols=range(1,7))\n",
    "  results = []\n",
    "  i = 1\n",
    "  for item in cat:\n",
    "    h1 = hms2dec(item[0],item[1],item[2])\n",
    "    r1 = dms2dec(item[3],item[4],item[5])\n",
    "    results.append((i,h1,r1))\n",
    "    i = i+1\n",
    "  return results\n",
    "\n",
    "def find_closest(cat,r,d):\n",
    "  item_select = cat[1]\n",
    "  lowest_dist = angular_dist(r,d,item_select[1],item_select[2])\n",
    "  \n",
    "  for item in cat:\n",
    "    item_dist = angular_dist(r,d,item[1],item[2])\n",
    "    if item_dist<lowest_dist:\n",
    "      lowest_dist = item_dist\n",
    "      item_select = item\n",
    "  return (item_select[0],lowest_dist)\n",
    "\n",
    "def crossmatch(bss_cat,super_cat,max_dist):\n",
    "  matches = []\n",
    "  no_matches = []\n",
    "  for bss_item in bss_cat:\n",
    "    closest = find_closest(super_cat,bss_item[1],bss_item[2])\n",
    "    if closest[1] < max_dist:\n",
    "      matches.append((bss_item[0],closest[0],closest[1]))\n",
    "    else:\n",
    "      no_matches.append(bss_item[0])\n",
    "  \n",
    "  return matches,no_matches"
   ]
  },
  {
   "cell_type": "code",
   "execution_count": 31,
   "metadata": {
    "collapsed": false
   },
   "outputs": [
    {
     "name": "stdout",
     "output_type": "stream",
     "text": [
      "[(2, 3, 2.7573607427578017), (3, 3, 1.4979268488836439)]\n",
      "[1]\n",
      "1\n",
      "[]\n",
      "[1, 2, 3]\n",
      "3\n"
     ]
    }
   ],
   "source": [
    "bss_cat = import_bss()\n",
    "super_cat = import_super()\n",
    "\n",
    "  # First example in the question\n",
    "max_dist = 5\n",
    "matches, no_matches = crossmatch(bss_cat, super_cat, max_dist)\n",
    "print(matches[:3])\n",
    "print(no_matches[:3])\n",
    "print(len(no_matches))\n",
    "\n",
    "  # Second example in the question\n",
    "max_dist = 1\n",
    "matches, no_matches = crossmatch(bss_cat, super_cat, max_dist)\n",
    "print(matches[:3])\n",
    "print(no_matches[:3])\n",
    "print(len(no_matches))"
   ]
  },
  {
   "cell_type": "code",
   "execution_count": null,
   "metadata": {
    "collapsed": true
   },
   "outputs": [],
   "source": []
  }
 ],
 "metadata": {
  "anaconda-cloud": {},
  "kernelspec": {
   "display_name": "Python [conda root]",
   "language": "python",
   "name": "conda-root-py"
  },
  "language_info": {
   "codemirror_mode": {
    "name": "ipython",
    "version": 3
   },
   "file_extension": ".py",
   "mimetype": "text/x-python",
   "name": "python",
   "nbconvert_exporter": "python",
   "pygments_lexer": "ipython3",
   "version": "3.5.2"
  }
 },
 "nbformat": 4,
 "nbformat_minor": 1
}
