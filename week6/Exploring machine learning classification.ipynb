{
 "cells": [
  {
   "cell_type": "markdown",
   "metadata": {},
   "source": [
    "## Introduction\n",
    "\n",
    "In this activity, we will using machine learning to classify galaxies into three types (ellipticals, spirals or galactic mergers) based on their observed properties.\n",
    "\n",
    "In the last activity you had a go at classifying galaxies by hand on the Galaxy Zoo website which hopefully gave you some intuition for the dataset and how we can distinguish between the different types of galaxy.\n",
    "\n",
    "For our machine learning experiments, we are using the crowd-classified classes from Galaxy Zoo as the training data for our automatic decision tree classifier.\n",
    "\n",
    "We'll start by looking at how classification differs from regression. We will then implement some of the new features and parameters that we will use to reduce the dimensionality of the problem. We will also show you how to measure accuracy for classification problems, before extending our classifier to use random forests."
   ]
  },
  {
   "cell_type": "markdown",
   "metadata": {},
   "source": [
    "## Classification vs Regression\n",
    "\n",
    "In classification, the predictions are from a fixed set of classes, whereas in regression the prediction typically corresponds to a continuum of possible values.\n",
    "\n",
    "In regression, we measure accuracy by looking at the size of the differences between the predicted values and the actual values. In contrast, in classification problems a prediction can either be correct or incorrect. This makes measuring the accuracy of our model a lot simpler.\n",
    "\n",
    "In terms of implementation using decision trees, there is very little difference between classification and regression. The only notable difference is that our targets are classes rather than real values. When calculating the accuracy, we check whether the predicted class matches as the actual class.\n",
    "\n",
    "A note on decision tree regression\n",
    "\n",
    "In decision tree regression, the possible outputs are a finite set of values that correspond to the number of leaves/end points in the tree. Ideally we want as many points as possible to give a good approximation of the 'continuous' parameter space, whilst avoiding overfitting."
   ]
  },
  {
   "cell_type": "markdown",
   "metadata": {},
   "source": [
    "## The Galaxy Zoo data\n",
    "In the last activity, you were a human classifier for the Galaxy Zoo project and probably saw a wide range of galaxy types observed by the Sloan Digital Sky Survey. In this activity, we will limit our dataset to three types of galaxy: spirals, ellipticals and mergers."
   ]
  },
  {
   "cell_type": "markdown",
   "metadata": {},
   "source": [
    "<img src = 'Classes.png'>"
   ]
  },
  {
   "cell_type": "markdown",
   "metadata": {},
   "source": [
    "The galaxy catalogue we are using is a sample of galaxies where at least 20 human classifiers (such as yourself) have come to a consensus on the galaxy type.\n",
    "\n",
    "Examples of spiral and elliptical galaxies were selected where there was a unanimous classification. Due to low sample numbers, we included merger examples where at least 80% of human classifiers selected the merger class.\n",
    "\n",
    "We need this high quality data to train our classifier."
   ]
  },
  {
   "cell_type": "markdown",
   "metadata": {},
   "source": [
    "## Deciding on features\n",
    "\n",
    "Just like in the regression activities, we need to decide on a set of key features that represent our data.\n",
    "\n",
    "While approaches exist that determine their own feature representation and use the raw pixel values as inputs, e.g. neural networks and deep learning, the majority of existing machine learning in astronomy requires an expert to design the feature set.\n",
    "\n",
    "In this activity we will be using a set of features derived from fitting images according to known galaxy profiles.\n",
    "\n",
    "Most of the features we use here are based on the five observed flux magnitudes from the Sloan Digital Sky Survey filters:"
   ]
  },
  {
   "cell_type": "markdown",
   "metadata": {},
   "source": [
    "<img src='sdss_filters.png'>"
   ]
  },
  {
   "cell_type": "markdown",
   "metadata": {},
   "source": [
    "## Selecting features\n",
    "The features that we will be using to do our galaxy classification are colour index, adaptive moments, eccentricities and concentrations. These features are provided as part of the SDSS catalogue.\n",
    "\n",
    "\n",
    "Colour indices are the same colours (u-g, g-r, r-i, and i-z) we used for regression. Studies of galaxy evolution tell us that spiral galaxies have younger star populations and therefore are 'bluer' (brighter at lower wavelengths). Elliptical galaxies have an older star population and are brighter at higher wavelengths ('redder').\n",
    "\n",
    "Eccentricity approximates the shape of the galaxy by fitting an ellipse to its profile. Eccentricity is the ratio of the two axis (semi-major and semi-minor). The De Vaucouleurs model was used to attain these two axis. To simplify our experiments, we will use the median eccentricity across the 5 filters."
   ]
  },
  {
   "cell_type": "markdown",
   "metadata": {},
   "source": [
    "<img src='eccentricity_example.png'>"
   ]
  },
  {
   "cell_type": "markdown",
   "metadata": {},
   "source": [
    "## Selecting features - continued\n",
    "\n",
    "Adaptive moments also describe the shape of a galaxy. They are used in image analysis to detect similar objects at different sizes and orientations. We use the fourth moment here for each band.\n",
    "\n",
    "Concentration is similar to the luminosity profile of the galaxy, which measures what proportion of a galaxy's total light is emitted within what radius. A simplified way to represent this is to take the ratio of the radii containing 50% and 90% of the Petrosian flux.\n",
    "\n",
    "The Petrosian method allows us to compare the radial profiles of galaxies at different distances. \n",
    "For these experiments, we will define concentration as:\n",
    "\n",
    "\n",
    "We will use the concentration from the u, r and z bands."
   ]
  },
  {
   "cell_type": "markdown",
   "metadata": {},
   "source": [
    "<img src='concentration_example.png'>"
   ]
  },
  {
   "cell_type": "markdown",
   "metadata": {},
   "source": [
    "## Data description\n",
    "We have extracted the SDSS and Galaxy Zoo data for 780 galaxies into a NumPy binary file. You can load the file using:"
   ]
  },
  {
   "cell_type": "code",
   "execution_count": 1,
   "metadata": {
    "collapsed": true
   },
   "outputs": [],
   "source": [
    "import numpy as np\n",
    "data = np.load('galaxy_catalogue.npy')"
   ]
  },
  {
   "cell_type": "markdown",
   "metadata": {},
   "source": [
    "The data is a NumPy array of 780 records. Each record is a single galaxy. You can access the columns using field names. For example, to access the u-g colour filter for the first galaxy, you use:"
   ]
  },
  {
   "cell_type": "code",
   "execution_count": 2,
   "metadata": {
    "collapsed": false
   },
   "outputs": [
    {
     "data": {
      "text/plain": [
       "1.8576499999999996"
      ]
     },
     "execution_count": 2,
     "metadata": {},
     "output_type": "execute_result"
    }
   ],
   "source": [
    "data[0]['u-g']"
   ]
  },
  {
   "cell_type": "markdown",
   "metadata": {},
   "source": [
    "Here's a snippet that prints the field and values for the first galaxy:"
   ]
  },
  {
   "cell_type": "code",
   "execution_count": 3,
   "metadata": {
    "collapsed": false
   },
   "outputs": [
    {
     "name": "stdout",
     "output_type": "stream",
     "text": [
      "u-g        1.85765\n",
      "g-r        0.67158\n",
      "r-i        0.4231\n",
      "i-z        0.3061\n",
      "ecc        0.585428\n",
      "m4_u       2.25195\n",
      "m4_g       2.33985\n",
      "m4_r       2.38065\n",
      "m4_i       2.35974\n",
      "m4_z       2.39553\n",
      "petroR50_u 3.09512\n",
      "petroR50_r 3.81892\n",
      "petroR50_z 3.82623\n",
      "petroR90_u 5.17481\n",
      "petroR90_r 8.26301\n",
      "petroR90_z 11.4773\n",
      "class      merger\n"
     ]
    }
   ],
   "source": [
    "import numpy as np\n",
    "data = np.load('galaxy_catalogue.npy')\n",
    "for name, value in zip(data.dtype.names, data[0]):\n",
    "  print('{:10} {:.6}'.format(name, value))"
   ]
  },
  {
   "cell_type": "markdown",
   "metadata": {},
   "source": [
    "It shows the four colour features, median eccentricity, fourth adaptive moment of each filter, the Petrosian fluxes at a radius of 50% and 90% for the u, r and z filters, and finally the class:"
   ]
  },
  {
   "cell_type": "markdown",
   "metadata": {},
   "source": [
    "NumPy also allows you to access a field for all of the rows at once, i.e. a column, using the field's name:"
   ]
  },
  {
   "cell_type": "code",
   "execution_count": 4,
   "metadata": {
    "collapsed": false
   },
   "outputs": [
    {
     "data": {
      "text/plain": [
       "array([  1.85765,   1.74259,   2.10697,   1.2284 ,   1.80792,   2.03214,\n",
       "         2.35909,   1.51422,   1.56721,   1.7118 ,   1.28303,   1.29427,\n",
       "         1.18828,   2.11543,   2.45772,   1.46496,   0.95174,   1.02941,\n",
       "         1.78978,   1.90461,   1.49954,   2.04052,   1.86828,   1.64601,\n",
       "         1.45293,   2.20417,   1.21518,   1.39331,   0.87355,   1.79945,\n",
       "         1.56732,   1.47878,   1.47854,   1.94076,   1.66392,   1.99172,\n",
       "         1.30626,   2.50198,   1.26092,   1.22154,   0.80427,   1.75722,\n",
       "         1.11682,   1.16865,   1.9675 ,   0.02301,   1.91121,   1.69679,\n",
       "         1.12729,   1.54797,   1.89801,   1.47216,   1.01413,   1.63321,\n",
       "         1.83877,   1.42343,   1.4781 ,   0.93995,   1.80996,   1.11474,\n",
       "         0.75462,   1.90822,   1.27516,   1.54834,   2.05902,  -8.20235,\n",
       "         0.7531 ,   1.51231,   1.27076,   1.83303,   1.94496,   1.74008,\n",
       "         1.30572,   1.66461,   1.99338,   1.39701,   2.42249,   2.0925 ,\n",
       "         1.91042,   2.13106,   1.50552,   1.28209,   1.04851,   1.87933,\n",
       "         1.74374,   2.03694,   0.95559,   1.43962,   1.85441,   2.04892,\n",
       "         0.94014,   1.93962,   1.98128,   1.75222,   1.94122,   1.93809,\n",
       "         2.1222 ,   1.65737,   1.33915,   1.59638,   1.07199,   1.17656,\n",
       "         1.79745,   1.82892,   1.87699,   1.57596,   1.74526,   1.09891,\n",
       "         0.98065,   1.43684,   1.89587,   1.03851,   2.03469,   1.8926 ,\n",
       "         0.74382,   1.22533,   1.19418,   2.2761 ,   1.0403 ,   1.76278,\n",
       "         1.51923,   1.41757,   1.43569,   2.07173,   1.06466,   1.19535,\n",
       "         1.50247,   2.20299,   1.90761,   1.63954,   1.60342,   1.41076,\n",
       "         1.12185,   1.88818,   1.50347,   1.68773,   2.15394,   1.43743,\n",
       "         0.98532,   1.78951,   1.78464,   1.96302,   1.16761,   1.592  ,\n",
       "         1.81031,   1.90809,   0.9989 ,   1.74404,   1.90182,   1.41489,\n",
       "         1.84256,   1.60719,   1.42402,   1.91373,   0.82663,   1.35687,\n",
       "         2.00159,   1.46126,   2.04655,   1.37013,   1.6669 ,   0.91376,\n",
       "         1.78559,   0.8182 ,   1.61159,   2.10031,   1.08424,   1.66374,\n",
       "         2.03565,   1.41472,   1.34441,   1.42913,   0.79974,   1.25935,\n",
       "         2.25665,   1.54299,   0.8219 ,   1.35808,   0.7305 ,   0.72648,\n",
       "         1.63163,   2.22675,   1.35435,   1.33373,   1.87795,   1.80926,\n",
       "         1.39807,   1.6703 ,   1.87868,   1.19915,   1.22784,   1.27696,\n",
       "         1.64399,   1.86894,   0.79506,   1.48298,   1.6847 ,   1.52795,\n",
       "         1.92536,   0.91461,   1.30759,   1.97143,   0.94571,   1.29224,\n",
       "         1.38634,   1.08747,   1.3    ,   1.07672,   1.33075,   1.09544,\n",
       "         1.31461,   0.94621,   1.09764,   2.02032,   0.86042,   1.32727,\n",
       "         1.70715,   2.1606 ,   1.67357,   2.0718 ,   2.45508,   1.7775 ,\n",
       "         1.6811 ,   1.71325,   1.55862,   2.18177,   1.71614,   2.14023,\n",
       "         2.0878 ,   1.81796,   2.48337,   1.28219,   1.20197,   0.90785,\n",
       "         1.70257,   1.81673,   1.95682,   1.15531,   1.88835,   2.26917,\n",
       "         1.03696,   2.21498,   1.26703,   0.93303,   1.80592,   0.35784,\n",
       "         1.3767 ,   0.90043,   1.84545,   1.93194,   1.60453,   1.73717,\n",
       "         1.7857 ,   1.96286,   1.27016,   1.90854,   2.05078,   1.02191,\n",
       "         1.50735,   0.61117,   1.98566,   1.73257,   1.98402,   1.90426,\n",
       "         1.84182,   1.89898,   1.74747,   1.8184 ,   2.06313,   1.74024,\n",
       "         1.98799,   1.87057,   2.04526,   2.05588,   2.01071,   2.03435,\n",
       "         1.88679,   1.86188,   1.86   ,   2.17441,   1.97233,   1.83001,\n",
       "         1.95177,   1.91867,   1.83838,   2.07086,   1.79584,   1.78642,\n",
       "         1.88772,   1.91582,   1.92302,   2.03973,   1.9768 ,   1.94646,\n",
       "         2.03857,   1.95584,   1.88667,   1.40129,   1.83167,   1.98872,\n",
       "         1.88796,   1.90766,   1.89735,   2.02685,   1.94845,   1.88901,\n",
       "         1.98442,   2.1738 ,   1.81887,   1.98713,   1.86495,   1.9941 ,\n",
       "         1.74904,   1.76537,   1.85613,   1.63865,   1.75672,   1.97454,\n",
       "         1.97849,   1.85721,   1.94378,   1.93274,   1.90571,   1.90437,\n",
       "         1.85907,   1.87654,   1.97871,   2.06669,   1.83524,   1.85352,\n",
       "         1.78528,   1.93282,   1.90945,   2.00844,   1.9508 ,   1.95561,\n",
       "         1.94499,   1.89362,   1.75415,   1.99932,   1.95287,   1.86829,\n",
       "         2.05876,   1.92673,   1.92964,   7.38713,   2.00613,   1.83154,\n",
       "         2.05799,   2.00543,   1.81913,   1.85318,   1.84064,   2.24056,\n",
       "         1.29274,   2.03065,   1.97439,   2.10631,   1.85873,   2.12809,\n",
       "         2.07372,   1.96382,   1.79584,   2.03924,   1.83376,   1.98449,\n",
       "         1.78496,   1.62737,   1.95341,   1.86139,   1.81798,   1.90407,\n",
       "         2.00257,   1.87731,   1.76654,   1.84882,   1.88362,   1.96083,\n",
       "         2.24333,   1.89639,   1.79767,   2.09028,   1.81417,   2.00497,\n",
       "         1.9114 ,   1.83564,   1.94874,   1.92095,   2.00112,   1.55759,\n",
       "         1.98381,   1.89405,   1.91514,   2.21393,   1.94026,   1.8814 ,\n",
       "         1.81948,   1.90908,   1.89739,   1.92719,   2.02957,   2.15113,\n",
       "         2.38323,   1.98308,   1.86286,   1.87136,   1.82734,   1.99217,\n",
       "         1.9575 ,   1.4342 ,   1.97591,   2.02283,   2.00458,   2.07598,\n",
       "         1.96559,   1.92493,   1.96622,   1.94417,   1.95123,   1.90579,\n",
       "         1.89326,   1.99349,   1.98716,   2.22236,   1.81007,   1.8654 ,\n",
       "         1.78033,   2.05906,   2.00626,   1.89035,   1.87883,   1.79424,\n",
       "         1.90255,   1.98865,   1.86932,   1.9332 ,   2.27354,   1.99749,\n",
       "         2.01043,   1.94641,   1.92182,   1.92426,   1.80439,   2.00873,\n",
       "         1.8745 ,   2.30115,   1.9999 ,   1.9694 ,   1.85043,   1.78573,\n",
       "         1.85029,   2.0835 ,   1.87671,   1.66242,   1.69896,   1.92181,\n",
       "         1.93141,   1.85067,   2.0231 ,   1.8943 ,   1.89244,   1.86405,\n",
       "         1.92156,   1.8614 ,   2.02151,   2.1327 ,   1.91166,   1.99258,\n",
       "         1.95815,   2.10321,   1.82052,   1.8246 ,   1.94813,   1.98007,\n",
       "         1.88824,   1.83027,   2.06552,   1.75012,   1.75892,   1.90947,\n",
       "         1.69896,   1.94276,   1.89846,   2.00618,   1.83243,   1.76423,\n",
       "         1.89581,   2.02511,   1.92857,   1.82565,   1.83747,   1.90134,\n",
       "         1.89824,   1.91567,   2.0444 ,   1.887  ,   1.83836,   1.8527 ,\n",
       "         2.04309,   1.95316,   1.8082 ,   1.92376,   1.91798,   2.07089,\n",
       "         1.94469,   2.01277,   1.92203,   2.01943,   1.70577,   1.98389,\n",
       "         1.93804,   1.90077,   1.907  ,   2.07745,   1.93122,   1.96249,\n",
       "         1.94457,   1.78945,   2.01632,   1.76528,   1.43902,   1.68791,\n",
       "         1.70176,   1.7559 ,   1.52953,   1.1751 ,   1.29919,   1.62905,\n",
       "         1.37443,   1.18956,   1.3512 ,   1.33324,   1.33645,   1.09237,\n",
       "         1.47586,   1.25537,   1.33293,   0.83713,   1.96175,   1.34961,\n",
       "         1.26268,   1.59247,   0.88745,   1.01725,   1.25759,   1.31969,\n",
       "         1.38582,   1.27895,   1.37095,   1.09963,   1.47296,   1.35421,\n",
       "         1.87027,   1.57108,   1.19652,   1.32195,   1.77886,   1.76539,\n",
       "         1.40619,   1.29524,   1.48522,   1.80222,   1.27881,   1.20485,\n",
       "         1.34058,   1.55474,   1.54275,   1.14431,   1.51834,   1.54313,\n",
       "         1.77547,   1.22697,   1.42986,   1.52399,   1.33059,   0.79295,\n",
       "         1.21524,   1.27061,   1.27782,   1.369  ,   1.40802,   1.13595,\n",
       "         1.22819,   1.57755,   1.22236,   1.73236,   1.51248,   1.44921,\n",
       "         1.9629 ,   1.71317,   1.0308 ,   1.28257,   1.47451,   1.30116,\n",
       "         1.72037,   1.23617,   1.27011,   1.03433,   1.32747,   1.22676,\n",
       "         0.99552,   1.50045,   1.63687,   1.36583,   1.38869,   1.25031,\n",
       "         1.70175,   1.01983,   1.60272,   1.29532,   1.70074,   1.4211 ,\n",
       "         1.58242,   0.9747 ,   1.11106,   1.6546 ,   1.0819 ,   1.54704,\n",
       "         1.91886,   1.19326,   1.11155,   1.43456,   1.46475,   8.14432,\n",
       "         1.72345,   1.21249,   1.21816,   1.12331,   1.4721 ,   1.33247,\n",
       "         1.14089,   1.52396,   1.3411 ,  10.62404,   1.71916,   1.56972,\n",
       "         1.67667,   1.19107,   1.00508,   1.2811 ,   1.10829,   1.39194,\n",
       "         1.36398,   1.10091,   1.18627,   1.14016,   1.58796,   1.33866,\n",
       "         1.35016,   1.71728,   1.79695,   1.48774,   1.14477,   1.66153,\n",
       "         2.06524,   1.23549,   1.19789,   1.23337,   1.50639,   1.6945 ,\n",
       "         1.33313,   1.14767,   1.47833,   1.37545,   1.42726,   1.28853,\n",
       "         0.80317,   1.41432,   1.74477,   1.1361 ,   1.49681,   1.41733,\n",
       "         0.61567,   1.56782,   1.4062 ,   1.67313,   1.0988 ,   1.36891,\n",
       "         1.2351 ,   1.23976,   1.29072,   1.43071,   1.43646,   1.68245,\n",
       "         1.28582,   1.72804,   1.14998,   1.50909,   1.28507,   1.4784 ,\n",
       "         1.28871,   1.18423,   1.33324,   1.21336,   1.43007,   1.24929,\n",
       "         0.83962,   1.28056,   1.62334,   1.60844,   0.11973,   1.34676,\n",
       "         1.83001,   1.34453,   1.06022,   1.52749,   1.25116,   1.9054 ,\n",
       "         1.19334,   1.40057,   1.86876,   1.2925 ,   1.59309,   1.23865,\n",
       "         1.34927,   1.6492 ,   1.66139,   1.58693,   1.56774,   1.3145 ,\n",
       "         1.68884,   1.08861,   1.55892,   1.64882,   1.02912,   1.21451,\n",
       "         1.68202,   1.46197,   1.44457,   1.37781,   1.8884 ,   1.12434,\n",
       "         1.45303,   0.99846,   1.59527,   1.79702,   1.2999 ,   1.52052,\n",
       "         1.23859,   1.24234,   1.07673,   0.80505,   1.24705,   1.43393,\n",
       "         1.06961,   1.19279,   1.10331,   1.33914,   1.57243,   1.53427,\n",
       "         1.20084,   1.50089,   1.12138,   1.60443,   1.58228,   1.20532,\n",
       "         1.38405,   1.36383,   1.70491,   1.28115,   1.48009,   1.4647 ,\n",
       "         1.37799,   1.70744,   1.49219,   1.2942 ,   1.33597,   1.32679,\n",
       "         1.77378,   1.35244,   1.4801 ,   1.80617,   1.34484,   1.19032,\n",
       "         1.03384,   1.34594,   1.19482,   1.21489,   1.41797,   1.49346])"
      ]
     },
     "execution_count": 4,
     "metadata": {},
     "output_type": "execute_result"
    }
   ],
   "source": [
    "data['u-g']"
   ]
  },
  {
   "cell_type": "markdown",
   "metadata": {},
   "source": [
    "\n",
    "## Splitting the train and test sets\n",
    "\n",
    "To start, we need to split the data into training and testing sets.\n",
    "\n",
    "Your task is to implement the splitdata_train_test function. It takes a NumPy array and splits it into a training and testing NumPy array based on the specified training fraction. The function takes two arguments and should return two values:\n",
    "\n",
    "Arguments\n",
    "\n",
    " - data: the NumPy array containing the galaxies in the form described in the previous slide;\n",
    " - fraction_training: the fraction of the data to use for training. This will be a float between 0 and 1.\n",
    "\n",
    "    The number of training rows should be truncated if necessary. For example, with a fraction of 0.67 and our 780 galaxies, the number of training rows is 780*0.67 = 722.6, which should be truncated to 722 using int. The remaining rows should be used for testing.\n",
    "\n",
    "Return values\n",
    "\n",
    " - training_set: the first value is a NumPy array training set;\n",
    " - testing_set: the second value is a NumPy array testing set.\n",
    "\n",
    "    Using the supplied driver code, and our input data and a fraction of 0.7, the program should print the following values:"
   ]
  },
  {
   "cell_type": "code",
   "execution_count": 1,
   "metadata": {
    "collapsed": true
   },
   "outputs": [],
   "source": [
    "import numpy as np\n",
    "\n",
    "def splitdata_train_test(data, fraction_training):\n",
    "  # complete this function\n",
    "  np.random.seed(0)\n",
    "  np.random.shuffle(data)\n",
    "  split_index = int(fraction_training * len(data))\n",
    "  training = data[:split_index]\n",
    "  testing = data[split_index:]\n",
    "  \n",
    "  return training, testing\n",
    "  "
   ]
  },
  {
   "cell_type": "code",
   "execution_count": 2,
   "metadata": {
    "collapsed": true
   },
   "outputs": [],
   "source": [
    "data = np.load('galaxy_catalogue.npy')"
   ]
  },
  {
   "cell_type": "code",
   "execution_count": 3,
   "metadata": {
    "collapsed": true
   },
   "outputs": [],
   "source": [
    "# set the fraction of data which should be in the training set\n",
    "fraction_training = 0.7\n",
    "\n",
    "  # split the data using your function\n",
    "training, testing = splitdata_train_test(data, fraction_training)\n"
   ]
  },
  {
   "cell_type": "code",
   "execution_count": 4,
   "metadata": {
    "collapsed": false
   },
   "outputs": [
    {
     "name": "stdout",
     "output_type": "stream",
     "text": [
      "Number data galaxies: 780\n",
      "Train fraction: 0.7\n",
      "Number of galaxies in training set: 546\n",
      "Number of galaxies in testing set: 234\n"
     ]
    }
   ],
   "source": [
    "print('Number data galaxies:', len(data))\n",
    "print('Train fraction:', fraction_training)\n",
    "print('Number of galaxies in training set:', len(training))\n",
    "print('Number of galaxies in testing set:', len(testing))"
   ]
  },
  {
   "cell_type": "markdown",
   "metadata": {
    "collapsed": true
   },
   "source": [
    "## Generating features and targets\n",
    "\n",
    "Next, we generate features and targets for the decision tree.\n",
    "\n",
    "The generate_features_targets function is mostly complete. However, you need to calculate the concentration values for the u, r and z filters.\n",
    "\n",
    "Your task is to calculate the concentration for each filter from the 50% and 90% Petrosian radius measurements:\n",
    "    \n",
    "         conc = petro R50 / petro R50\n",
    "\n",
    "\n",
    "As described earlier, data has the following fields:\n",
    "\n",
    " - colours: u-g, g-r, r-i, and i-z;\n",
    " - eccentricity: ecc\n",
    " - 4th adaptive moments: m4_u, m4_g, m4_r, m4_i, and m4_z;\n",
    " - 50% Petrosian: petroR50_u, petroR50_r, petroR50_z;\n",
    " - 90% Petrosian: petroR90_u, petroR90_r, petroR90_z."
   ]
  },
  {
   "cell_type": "code",
   "execution_count": 5,
   "metadata": {
    "collapsed": true
   },
   "outputs": [],
   "source": [
    "import numpy as np\n",
    "\n",
    "def generate_features_targets(data):\n",
    "  # complete the function by calculating the concentrations\n",
    "\n",
    "  targets = data['class']\n",
    "\n",
    "  features = np.empty(shape=(len(data), 13))\n",
    "  features[:, 0] = data['u-g']\n",
    "  features[:, 1] = data['g-r']\n",
    "  features[:, 2] = data['r-i']\n",
    "  features[:, 3] = data['i-z']\n",
    "  features[:, 4] = data['ecc']\n",
    "  features[:, 5] = data['m4_u']\n",
    "  features[:, 6] = data['m4_g']\n",
    "  features[:, 7] = data['m4_r']\n",
    "  features[:, 8] = data['m4_i']\n",
    "  features[:, 9] = data['m4_z']\n",
    "\n",
    "  # fill the remaining 3 columns with concentrations in the u, r and z filters\n",
    "  # concentration in u filter\n",
    "  features[:, 10] = data['petroR50_u']/data['petroR90_u']\n",
    "  # concentration in r filter\n",
    "  features[:, 11] = data['petroR50_r']/data['petroR90_r']\n",
    "  # concentration in z filter\n",
    "  features[:, 12] = data['petroR50_z']/data['petroR90_z']\n",
    "\n",
    "  return features, targets"
   ]
  },
  {
   "cell_type": "code",
   "execution_count": 6,
   "metadata": {
    "collapsed": false
   },
   "outputs": [
    {
     "name": "stdout",
     "output_type": "stream",
     "text": [
      "Features shape: (780, 13)\n",
      "Targets shape: (780,)\n"
     ]
    }
   ],
   "source": [
    "data = np.load('galaxy_catalogue.npy')\n",
    "\n",
    "features, targets = generate_features_targets(data)\n",
    "\n",
    "  # Print the shape of each array to check the arrays are the correct dimensions. \n",
    "print(\"Features shape:\", features.shape)\n",
    "print(\"Targets shape:\", targets.shape)"
   ]
  },
  {
   "cell_type": "markdown",
   "metadata": {},
   "source": [
    "## Train the decision tree classifier\n",
    "\n",
    "It is time to use the functions we wrote to split the data and generate the features, and then train a decision tree classifier.\n",
    "\n",
    "Your task is complete the dtc_predict_actual function by following the Python comments. The purpose of the function is to perform a held out validation and return the predicted and actual classes for later comparison.\n",
    "\n",
    "The function takes a single argument which is the full data set and should return two NumPy arrays containing the predicted and actual classes respectively.\n",
    "\n",
    "You will also need to copy your solutions from the previous two questions into the spaces allocated."
   ]
  },
  {
   "cell_type": "code",
   "execution_count": 7,
   "metadata": {
    "collapsed": true
   },
   "outputs": [],
   "source": [
    "import numpy as np\n",
    "from sklearn.tree import DecisionTreeClassifier\n"
   ]
  },
  {
   "cell_type": "code",
   "execution_count": 10,
   "metadata": {
    "collapsed": true
   },
   "outputs": [],
   "source": [
    "# helper function\n",
    "def splitdata_train_test(data, fraction_training):\n",
    "  # complete this function\n",
    "  np.random.seed(0)\n",
    "  np.random.shuffle(data)\n",
    "  split_index = int(fraction_training * len(data))\n",
    "  training = data[:split_index]\n",
    "  testing = data[split_index:]\n",
    "  \n",
    "  return training, testing"
   ]
  },
  {
   "cell_type": "code",
   "execution_count": 11,
   "metadata": {
    "collapsed": true
   },
   "outputs": [],
   "source": [
    "#helper function\n",
    "def generate_features_targets(data):\n",
    "  # complete the function by calculating the concentrations\n",
    "\n",
    "  targets = data['class']\n",
    "\n",
    "  features = np.empty(shape=(len(data), 13))\n",
    "  features[:, 0] = data['u-g']\n",
    "  features[:, 1] = data['g-r']\n",
    "  features[:, 2] = data['r-i']\n",
    "  features[:, 3] = data['i-z']\n",
    "  features[:, 4] = data['ecc']\n",
    "  features[:, 5] = data['m4_u']\n",
    "  features[:, 6] = data['m4_g']\n",
    "  features[:, 7] = data['m4_r']\n",
    "  features[:, 8] = data['m4_i']\n",
    "  features[:, 9] = data['m4_z']\n",
    "\n",
    "  # fill the remaining 3 columns with concentrations in the u, r and z filters\n",
    "  # concentration in u filter\n",
    "  features[:, 10] = data['petroR50_u']/data['petroR90_u']\n",
    "  # concentration in r filter\n",
    "  features[:, 11] = data['petroR50_r']/data['petroR90_r']\n",
    "  # concentration in z filter\n",
    "  features[:, 12] = data['petroR50_z']/data['petroR90_z']\n",
    "\n",
    "  return features, targets\n",
    "\n"
   ]
  },
  {
   "cell_type": "code",
   "execution_count": 12,
   "metadata": {
    "collapsed": true
   },
   "outputs": [],
   "source": [
    "# helper function\n",
    "def generate_features_targets(data):\n",
    "  # complete the function by calculating the concentrations\n",
    "\n",
    "  targets = data['class']\n",
    "\n",
    "  features = np.empty(shape=(len(data), 13))\n",
    "  features[:, 0] = data['u-g']\n",
    "  features[:, 1] = data['g-r']\n",
    "  features[:, 2] = data['r-i']\n",
    "  features[:, 3] = data['i-z']\n",
    "  features[:, 4] = data['ecc']\n",
    "  features[:, 5] = data['m4_u']\n",
    "  features[:, 6] = data['m4_g']\n",
    "  features[:, 7] = data['m4_r']\n",
    "  features[:, 8] = data['m4_i']\n",
    "  features[:, 9] = data['m4_z']\n",
    "\n",
    "  # fill the remaining 3 columns with concentrations in the u, r and z filters\n",
    "  # concentration in u filter\n",
    "  features[:, 10] = data['petroR50_u']/data['petroR90_u']\n",
    "  # concentration in r filter\n",
    "  features[:, 11] = data['petroR50_r']/data['petroR90_r']\n",
    "  # concentration in z filter\n",
    "  features[:, 12] = data['petroR50_z']/data['petroR90_z']\n",
    "\n",
    "  return features, targets\n",
    "\n",
    "\n",
    "\n"
   ]
  },
  {
   "cell_type": "code",
   "execution_count": 13,
   "metadata": {
    "collapsed": true
   },
   "outputs": [],
   "source": [
    "# helper function\n",
    "def generate_features_targets(data):\n",
    "  # complete the function by calculating the concentrations\n",
    "\n",
    "  targets = data['class']\n",
    "\n",
    "  features = np.empty(shape=(len(data), 13))\n",
    "  features[:, 0] = data['u-g']\n",
    "  features[:, 1] = data['g-r']\n",
    "  features[:, 2] = data['r-i']\n",
    "  features[:, 3] = data['i-z']\n",
    "  features[:, 4] = data['ecc']\n",
    "  features[:, 5] = data['m4_u']\n",
    "  features[:, 6] = data['m4_g']\n",
    "  features[:, 7] = data['m4_r']\n",
    "  features[:, 8] = data['m4_i']\n",
    "  features[:, 9] = data['m4_z']\n",
    "\n",
    "  # fill the remaining 3 columns with concentrations in the u, r and z filters\n",
    "  # concentration in u filter\n",
    "  features[:, 10] = data['petroR50_u']/data['petroR90_u']\n",
    "  # concentration in r filter\n",
    "  features[:, 11] = data['petroR50_r']/data['petroR90_r']\n",
    "  # concentration in z filter\n",
    "  features[:, 12] = data['petroR50_z']/data['petroR90_z']\n",
    "\n",
    "  return features, targets\n",
    "\n",
    "\n",
    "\n",
    "# complete this function by splitting the data set and training a decision tree classifier\n",
    "def dtc_predict_actual(data):\n",
    "  # split the data into training and testing sets using a training fraction of 0.7\n",
    "  np.random.seed(0)\n",
    "  np.random.shuffle(data)\n",
    "  fraction_training = 0.7\n",
    "  split_index = int(fraction_training * len(data))\n",
    "  \n",
    "\n",
    "  # generate the feature and targets for the training and test sets\n",
    "  # i.e. train_features, train_targets, test_features, test_targets\n",
    "  features, targets = generate_features_targets(data)\n",
    "  train_features = features[:split_index]\n",
    "  test_features = features[split_index:]\n",
    "  train_targets = targets[:split_index]\n",
    "  test_targets = targets[split_index:]\n",
    "\n",
    "\n",
    "  # instantiate a decision tree classifier\n",
    "  dtr = DecisionTreeClassifier()\n",
    "\n",
    "  # train the classifier with the train_features and train_targets\n",
    "  dtr.fit(train_features,train_targets)\n",
    "\n",
    "  # get predictions for the test_features\n",
    "  predictions = dtr.predict(test_features)\n",
    "\n",
    "  # return the predictions and the test_targets\n",
    "  return predictions, test_targets"
   ]
  },
  {
   "cell_type": "code",
   "execution_count": 14,
   "metadata": {
    "collapsed": true
   },
   "outputs": [],
   "source": [
    "data = np.load('galaxy_catalogue.npy')\n",
    "    \n",
    "predicted_class, actual_class = dtc_predict_actual(data)"
   ]
  },
  {
   "cell_type": "code",
   "execution_count": 17,
   "metadata": {
    "collapsed": false
   },
   "outputs": [
    {
     "name": "stdout",
     "output_type": "stream",
     "text": [
      "Some initial results...\n",
      "   predicted,  actual\n",
      "0. merger, merger\n",
      "1. merger, merger\n",
      "2. elliptical, elliptical\n",
      "3. elliptical, elliptical\n",
      "4. spiral, spiral\n",
      "5. merger, spiral\n",
      "6. merger, spiral\n",
      "7. merger, spiral\n",
      "8. merger, merger\n",
      "9. merger, merger\n"
     ]
    }
   ],
   "source": [
    "# Print some of the initial results\n",
    "print(\"Some initial results...\\n   predicted,  actual\")\n",
    "for i in range(10):\n",
    "  print(\"{}. {}, {}\".format(i, predicted_class[i], actual_class[i]))"
   ]
  },
  {
   "cell_type": "markdown",
   "metadata": {},
   "source": [
    "## Accuracy and model score\n",
    "\n",
    "The accuracy of classification problems is a lot simpler to calculate than for regression problems. The simplest measure is the fraction of objects that are correctly classified. \n",
    "\n",
    "The accuracy measure is often called the model score. While the way of calculating the score can vary depending on the model, the accuracy is the most common for classification problems.\n",
    "\n",
    "Note: sklearn has methods to get the model score. Most models will have a score method which in the case of the decision tree classifier uses the above formula. The cross_val_score function in the model_selection module can be used to get k cross validated scores."
   ]
  },
  {
   "cell_type": "markdown",
   "metadata": {},
   "source": [
    "## Confusion matrices\n",
    "\n",
    "In addition to an overall accuracy score, we'd also like to know where our model is going wrong. For example, were the incorrectly classified mergers mis-classified as spirals or ellipticals? To answer this type of question we use a confusion matrix. An example confusion matrix for our problem is shown below:"
   ]
  },
  {
   "cell_type": "markdown",
   "metadata": {},
   "source": [
    "<img src='example_confusion.png'>"
   ]
  },
  {
   "cell_type": "markdown",
   "metadata": {},
   "source": [
    "The x axis represents the predicted classes and the y axis represents the correct classes. The value in each cell is the number of examples with those predicted and actual classes. Correctly classified objects are along the diagonal of the matrix.\n",
    "\n",
    "So of the 260 actual spirals (correct class) in the data set, 209 are correctly predicted as spirals, 2 are incorrectly predicted as ellipticals and 49 are incorrectly predicted as mergers.\n",
    "\n",
    "The sum along each row or column can be used to get the totals of true and predicted classes. So for example, by summing each of the rows we can confirm that there are 260 mergers, 260 spirals and 260 ellipticals in the data set."
   ]
  },
  {
   "cell_type": "markdown",
   "metadata": {},
   "source": [
    "## Accuracy in classification\n",
    "\n",
    "Your task is to complete the calculate_accuracy function. The function should calculate the accuracy: the fraction of predictions that are correct (i.e. the model score):\n",
    "\n",
    "The function takes two arguments;\n",
    "\n",
    "predicted: an array of the predicted class for each galaxy.\n",
    "actual: an array of the actual class for each galaxy.\n",
    "The return value should be a float (between 0 and 1)."
   ]
  },
  {
   "cell_type": "code",
   "execution_count": 32,
   "metadata": {
    "collapsed": false
   },
   "outputs": [],
   "source": [
    "import numpy as np\n",
    "import itertools\n",
    "from matplotlib import pyplot as plt\n",
    "from sklearn.metrics import confusion_matrix\n",
    "from sklearn.model_selection import cross_val_predict\n",
    "from sklearn.tree import DecisionTreeClassifier\n",
    "from sklearn.ensemble import RandomForestClassifier\n",
    "\n"
   ]
  },
  {
   "cell_type": "code",
   "execution_count": 33,
   "metadata": {
    "collapsed": true
   },
   "outputs": [],
   "source": [
    "# helper function\n",
    "\n",
    "def generate_features_targets(data):\n",
    "    output_targets = np.empty(shape=(len(data)), dtype='<U20')\n",
    "    output_targets[:] = data['class']\n",
    "\n",
    "    input_features = np.empty(shape=(len(data), 13))\n",
    "    input_features[:, 0] = data['u-g']\n",
    "    input_features[:, 1] = data['g-r']\n",
    "    input_features[:, 2] = data['r-i']\n",
    "    input_features[:, 3] = data['i-z']\n",
    "    input_features[:, 4] = data['ecc']\n",
    "    input_features[:, 5] = data['m4_u']\n",
    "    input_features[:, 6] = data['m4_g']\n",
    "    input_features[:, 7] = data['m4_r']\n",
    "    input_features[:, 8] = data['m4_i']\n",
    "    input_features[:, 9] = data['m4_z']\n",
    "    input_features[:, 10] = data['petroR50_u'] / data['petroR90_u']\n",
    "    input_features[:, 11] = data['petroR50_r'] / data['petroR90_r']\n",
    "    input_features[:, 12] = data['petroR50_z'] / data['petroR90_z']\n",
    "\n",
    "    return input_features, output_targets"
   ]
  },
  {
   "cell_type": "code",
   "execution_count": 34,
   "metadata": {
    "collapsed": true
   },
   "outputs": [],
   "source": [
    "#helper function\n",
    "def plot_confusion_matrix(cm, classes,\n",
    "                          normalize=False,\n",
    "                          title='Confusion matrix',\n",
    "                          cmap=plt.cm.Blues):\n",
    "    \"\"\"\n",
    "    This function prints and plots the confusion matrix.\n",
    "    Normalization can be applied by setting `normalize=True`.\n",
    "    \"\"\"\n",
    "    plt.imshow(cm, interpolation='nearest', cmap=cmap)\n",
    "    plt.title(title)\n",
    "    plt.colorbar()\n",
    "    tick_marks = np.arange(len(classes))\n",
    "    plt.xticks(tick_marks, classes, rotation=45)\n",
    "    plt.yticks(tick_marks, classes)\n",
    "\n",
    "    if normalize:\n",
    "        cm = cm.astype('float') / cm.sum(axis=1)[:, np.newaxis]\n",
    "        print(\"Normalized confusion matrix\")\n",
    "    else:\n",
    "        print('Confusion matrix, without normalization')\n",
    "\n",
    "    print(cm)\n",
    "\n",
    "    thresh = cm.max() / 2.\n",
    "    for i, j in itertools.product(range(cm.shape[0]), range(cm.shape[1])):\n",
    "        plt.text(j, i, \"{}\".format(cm[i, j]),\n",
    "                 horizontalalignment=\"center\",\n",
    "                 color=\"white\" if cm[i, j] > thresh else \"black\")\n",
    "\n",
    "    plt.tight_layout()\n",
    "    plt.ylabel('True Class')\n",
    "    plt.xlabel('Predicted Class')\n"
   ]
  },
  {
   "cell_type": "code",
   "execution_count": 35,
   "metadata": {
    "collapsed": true
   },
   "outputs": [],
   "source": [
    "\n",
    "# Implement the following function\n",
    "def calculate_accuracy(predicted, actual):\n",
    "  \n",
    " \n",
    "  return sum(actual[:] == predicted[:]) / len(actual)"
   ]
  },
  {
   "cell_type": "code",
   "execution_count": 36,
   "metadata": {
    "collapsed": false
   },
   "outputs": [
    {
     "name": "stdout",
     "output_type": "stream",
     "text": [
      "Our accuracy score: 0.784615384615\n",
      "Confusion matrix, without normalization\n",
      "[[232  23   5]\n",
      " [ 25 185  50]\n",
      " [  6  59 195]]\n"
     ]
    },
    {
     "data": {
      "image/png": "[encoded data removed]",
      "text/plain": [
       "<matplotlib.figure.Figure at 0x7fa598048048>"
      ]
     },
     "metadata": {},
     "output_type": "display_data"
    }
   ],
   "source": [
    "data = np.load('galaxy_catalogue.npy')\n",
    "\n",
    "  # split the data\n",
    "features, targets = generate_features_targets(data)\n",
    "\n",
    "  # train the model to get predicted and actual classes\n",
    "dtc = DecisionTreeClassifier()\n",
    "predicted = cross_val_predict(dtc, features, targets, cv=10)\n",
    "\n",
    "  # calculate the model score using your function\n",
    "model_score = calculate_accuracy(predicted, targets)\n",
    "print(\"Our accuracy score:\", model_score)\n",
    "\n",
    "  # calculate the models confusion matrix using sklearns confusion_matrix function\n",
    "class_labels = list(set(targets))\n",
    "model_cm = confusion_matrix(y_true=targets, y_pred=predicted, labels=class_labels)\n",
    "\n",
    "  # Plot the confusion matrix using the provided functions.\n",
    "plt.figure()\n",
    "plot_confusion_matrix(model_cm, classes=class_labels, normalize=False)\n",
    "plt.show()\n"
   ]
  },
  {
   "cell_type": "markdown",
   "metadata": {},
   "source": [
    "## Random forests classification\n",
    "\n",
    "So far we have used a single decision tree model. However, we can improve the accuracy of our classification by using a collection (or ensemble) of trees as known as a random forest.\n",
    "\n",
    "A random forest is a collection of decision trees that have each been independently trained using different subsets of the training data and/or different combinations of features in those subsets.\n",
    "\n",
    "When making a prediction, every tree in the forest gives its own prediction and the most common classification is taken as the overall forest prediction (in regression the mean prediction is used)."
   ]
  },
  {
   "cell_type": "markdown",
   "metadata": {},
   "source": [
    "## Advantages of random forest classifiers\n",
    "\n",
    "Random forests help to mitigate overfitting in decision trees.\n",
    "\n",
    "Training data is spread across decision trees. The subsets are created by taking random samples with replacement. This means that a given data point can be used in several subsets. (This is different from the subsets used in cross validation where each data point belongs to one subset).\n",
    "\n",
    "Individual trees are trained with different subsets of features. So in our current problem, one tree might be trained using eccentricity and another using concentration and the 4th adaptive moment. By using different combinations of input features you create expert trees that are can better identify classes by a given feature.\n",
    "\n",
    "The sklearn random forest only uses the first form of sampling."
   ]
  },
  {
   "cell_type": "markdown",
   "metadata": {},
   "source": [
    "## Random Forest\n",
    "\n",
    "Your task here is to complete the rf_predict_actual function. It returns the predicted and actual classes for our galaxies using a random forest 10-fold with cross validation.\n",
    "\n",
    "You should use the RandomForestClassifier class from the sklearn.ensemble module. It can be instantiated with:\n",
    "\n",
    "\n",
    "rfc = RandomForestClassifier(n_estimators=n_estimators)\n",
    "\n",
    "n_estimators is the the number of decision trees in the forest.\n",
    "\n",
    "rf_predict_actual takes two arguments: the data used throughout this activity and the number of estimators (n_estimators) to be used in the random forest.\n",
    "\n",
    "The function should return two NumPy arrays containing the predicted and actual classes respectively.\n",
    "\n",
    "You can copy and paste the functions from previous questions. However, we have provided the generate_features_targets function in the support library.\n",
    "\n",
    "Use the cross_val_predict function from the model_selection module as we did in the last question.\n",
    "\n",
    "You can read its documentation here. This approach allows us to get a prediction for every galaxy in the data set through cross validation. It also means that we don't need to manage the training and test sets."
   ]
  },
  {
   "cell_type": "code",
   "execution_count": 37,
   "metadata": {
    "collapsed": true
   },
   "outputs": [],
   "source": [
    "# helper function\n",
    "def calculate_accuracy(predicted_classes, actual_classes, ):\n",
    "    return sum(actual_classes[:] == predicted_classes[:]) / len(actual_classes)\n"
   ]
  },
  {
   "cell_type": "code",
   "execution_count": 38,
   "metadata": {
    "collapsed": true
   },
   "outputs": [],
   "source": [
    "def generate_features_targets(data):\n",
    "    output_targets = np.empty(shape=(len(data)), dtype='<U20')\n",
    "    output_targets[:] = data['class']\n",
    "\n",
    "    input_features = np.empty(shape=(len(data), 13))\n",
    "    input_features[:, 0] = data['u-g']\n",
    "    input_features[:, 1] = data['g-r']\n",
    "    input_features[:, 2] = data['r-i']\n",
    "    input_features[:, 3] = data['i-z']\n",
    "    input_features[:, 4] = data['ecc']\n",
    "    input_features[:, 5] = data['m4_u']\n",
    "    input_features[:, 6] = data['m4_g']\n",
    "    input_features[:, 7] = data['m4_r']\n",
    "    input_features[:, 8] = data['m4_i']\n",
    "    input_features[:, 9] = data['m4_z']\n",
    "    input_features[:, 10] = data['petroR50_u'] / data['petroR90_u']\n",
    "    input_features[:, 11] = data['petroR50_r'] / data['petroR90_r']\n",
    "    input_features[:, 12] = data['petroR50_z'] / data['petroR90_z']\n",
    "\n",
    "    return input_features, output_targets\n"
   ]
  },
  {
   "cell_type": "code",
   "execution_count": 39,
   "metadata": {
    "collapsed": true
   },
   "outputs": [],
   "source": [
    "def plot_confusion_matrix(cm, classes,\n",
    "                          normalize=False,\n",
    "                          title='Confusion matrix',\n",
    "                          cmap=plt.cm.Blues):\n",
    "    \"\"\"\n",
    "    This function prints and plots the confusion matrix.\n",
    "    Normalization can be applied by setting `normalize=True`.\n",
    "    \"\"\"\n",
    "    plt.imshow(cm, interpolation='nearest', cmap=cmap)\n",
    "    plt.title(title)\n",
    "    plt.colorbar()\n",
    "    tick_marks = np.arange(len(classes))\n",
    "    plt.xticks(tick_marks, classes, rotation=45)\n",
    "    plt.yticks(tick_marks, classes)\n",
    "\n",
    "    if normalize:\n",
    "        cm = cm.astype('float') / cm.sum(axis=1)[:, np.newaxis]\n",
    "        print(\"Normalized confusion matrix\")\n",
    "    else:\n",
    "        print('Confusion matrix, without normalization')\n",
    "\n",
    "    print(cm)\n",
    "\n",
    "    thresh = cm.max() / 2.\n",
    "    for i, j in itertools.product(range(cm.shape[0]), range(cm.shape[1])):\n",
    "        plt.text(j, i, \"{}\".format(cm[i, j]),\n",
    "                 horizontalalignment=\"center\",\n",
    "                 color=\"white\" if cm[i, j] > thresh else \"black\")\n",
    "\n",
    "    plt.tight_layout()\n",
    "    plt.ylabel('True Class')\n",
    "    plt.xlabel('Predicted Class')"
   ]
  },
  {
   "cell_type": "code",
   "execution_count": 40,
   "metadata": {
    "collapsed": true
   },
   "outputs": [],
   "source": [
    "def rf_predict_actual(data, n_estimators):\n",
    "  # generate the features and targets\n",
    "  features, targets = generate_features_targets(data)\n",
    "\n",
    "  # instantiate a random forest classifier using n estimators\n",
    "  rfc = RandomForestClassifier(n_estimators=n_estimators)\n",
    "  \n",
    "  # get predictions using 10-fold cross validation with cross_val_predict\n",
    "  predictions = cross_val_predict(rfc, features, targets, cv=10)\n",
    "  \n",
    "  return predictions,targets"
   ]
  },
  {
   "cell_type": "code",
   "execution_count": 41,
   "metadata": {
    "collapsed": false
   },
   "outputs": [
    {
     "name": "stdout",
     "output_type": "stream",
     "text": [
      "Accuracy score: 0.861538461538\n",
      "Confusion matrix, without normalization\n",
      "[[243  15   2]\n",
      " [ 14 212  34]\n",
      " [  3  40 217]]\n"
     ]
    },
    {
     "data": {
      "image/png": "[encoded data removed]",
      "text/plain": [
       "<matplotlib.figure.Figure at 0x7fa5633474e0>"
      ]
     },
     "metadata": {},
     "output_type": "display_data"
    }
   ],
   "source": [
    "data = np.load('galaxy_catalogue.npy')\n",
    "\n",
    "  # get the predicted and actual classes\n",
    "number_estimators = 50              # Number of trees\n",
    "predicted, actual = rf_predict_actual(data, number_estimators)\n",
    "\n",
    "  # calculate the model score using your function\n",
    "accuracy = calculate_accuracy(predicted, actual)\n",
    "print(\"Accuracy score:\", accuracy)\n",
    "\n",
    "  # calculate the models confusion matrix using sklearns confusion_matrix function\n",
    "class_labels = list(set(actual))\n",
    "model_cm = confusion_matrix(y_true=actual, y_pred=predicted, labels=class_labels)\n",
    "\n",
    "  # plot the confusion matrix using the provided functions.\n",
    "plt.figure()\n",
    "plot_confusion_matrix(model_cm, classes=class_labels, normalize=False)\n",
    "plt.show()"
   ]
  },
  {
   "cell_type": "markdown",
   "metadata": {},
   "source": [
    "## Results discussion\n",
    "\n",
    "Did the random forest improve the accuracy of the model? The answer is yes – we see a substantial increase in accuracy. When we look at the 10-fold cross validation results, we see that the random forest systematically out performs a single decision tree:\n",
    "\n",
    "Random Forest\tDecision Tree\n",
    "Median score\t0.865\t0.775\n",
    "Mean score\t0.867\t0.792\n",
    "Standard deviation of scores\t0.036\t0.035\n",
    "The random forest is around ~6-7% more accurate than a standard decision tree.\n",
    "\n",
    "Below is a side by side comparision of the confusion matrices from our galaxy catalogues. The first showing the results for the random forest classifier and the second for the decision tree classifier. There are improvements accross the board with the biggest improvement (percentage) being between ellipticals and spirals."
   ]
  },
  {
   "cell_type": "markdown",
   "metadata": {},
   "source": [
    "<img src='forest_tree_comparison.png'>"
   ]
  },
  {
   "cell_type": "markdown",
   "metadata": {},
   "source": [
    "## Conclusions\n",
    "\n",
    "In this activity we have used decision tree classifiers to identify a galaxies type by a selection of derived features (e.g. eccentricity and concentration).\n",
    "\n",
    "We have learnt that asessing the models performance is a lot simpler with classification than it is with regression.\n",
    "\n",
    "Confusion matrices can be a useful tool to help understand where our model is over and under preforming with respect to each class.\n",
    "\n",
    "We started out with the goal of using decision trees to classify galaxies as one of three types. We found that we were able to achieve an accuracy of around 80% using decision trees which is very good when you consider the statistical accuracy of a random selection is 33% and the naive approach using only pixel values yielded ~64%.\n",
    "\n",
    "We were able to improve on the accuracy of the decision tree classifier by using a selection of them in ensemble learning with a random forest."
   ]
  },
  {
   "cell_type": "code",
   "execution_count": null,
   "metadata": {
    "collapsed": true
   },
   "outputs": [],
   "source": []
  }
 ],
 "metadata": {
  "anaconda-cloud": {},
  "kernelspec": {
   "display_name": "Python [conda root]",
   "language": "python",
   "name": "conda-root-py"
  },
  "language_info": {
   "codemirror_mode": {
    "name": "ipython",
    "version": 3
   },
   "file_extension": ".py",
   "mimetype": "text/x-python",
   "name": "python",
   "nbconvert_exporter": "python",
   "pygments_lexer": "ipython3",
   "version": "3.5.2"
  }
 },
 "nbformat": 4,
 "nbformat_minor": 1
}
